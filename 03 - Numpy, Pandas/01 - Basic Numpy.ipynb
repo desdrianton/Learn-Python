{
 "cells": [
  {
   "metadata": {},
   "cell_type": "markdown",
   "source": "# Basic Numpy",
   "id": "44c1407d321232bd"
  },
  {
   "metadata": {
    "ExecuteTime": {
     "end_time": "2024-07-03T13:55:54.277211Z",
     "start_time": "2024-07-03T13:55:54.272156Z"
    }
   },
   "cell_type": "code",
   "source": [
    "# Create 2 new lists height and weight\n",
    "height = [1.87,  1.87, 1.82, 1.91, 1.90, 1.85]\n",
    "weight = [81.65, 97.52, 95.25, 92.98, 86.18, 88.45]\n",
    "\n",
    "# Import the numpy package as np\n",
    "import numpy as np\n",
    "\n",
    "# Create 2 numpy arrays from height and weight\n",
    "np_height = np.array(height)\n",
    "np_weight = np.array(weight)\n",
    "\n",
    "print(np_height)\n",
    "print(type(np_height))"
   ],
   "id": "9d5d738cf99c05d5",
   "outputs": [
    {
     "name": "stdout",
     "output_type": "stream",
     "text": [
      "[1.87, 1.87, 1.82, 1.91, 1.9, 1.85]\n",
      "[1.87 1.87 1.82 1.91 1.9  1.85]\n",
      "<class 'numpy.ndarray'>\n"
     ]
    }
   ],
   "execution_count": 4
  },
  {
   "metadata": {
    "ExecuteTime": {
     "end_time": "2024-07-03T13:58:08.372486Z",
     "start_time": "2024-07-03T13:58:08.365864Z"
    }
   },
   "cell_type": "code",
   "source": [
    "# Calculate bmi\n",
    "bmi = np_weight / (np_height ** 2)\n",
    "\n",
    "# Print the result\n",
    "print(bmi)"
   ],
   "id": "614a4098507829af",
   "outputs": [
    {
     "name": "stdout",
     "output_type": "stream",
     "text": [
      "[23.34925219 27.88755755 28.75558507 25.48723993 23.87257618 25.84368152]\n"
     ]
    }
   ],
   "execution_count": 8
  },
  {
   "metadata": {
    "ExecuteTime": {
     "end_time": "2024-07-03T14:01:11.685739Z",
     "start_time": "2024-07-03T14:01:11.679756Z"
    }
   },
   "cell_type": "code",
   "source": [
    "# Print only those observations above 27\n",
    "bmi[bmi > 27]"
   ],
   "id": "ae5ca229db2bb722",
   "outputs": [
    {
     "data": {
      "text/plain": [
       "array([27.88755755, 28.75558507])"
      ]
     },
     "execution_count": 11,
     "metadata": {},
     "output_type": "execute_result"
    }
   ],
   "execution_count": 11
  },
  {
   "metadata": {},
   "cell_type": "code",
   "outputs": [],
   "execution_count": null,
   "source": "",
   "id": "f3e96a41f02b916"
  }
 ],
 "metadata": {
  "kernelspec": {
   "display_name": "Python 3",
   "language": "python",
   "name": "python3"
  },
  "language_info": {
   "codemirror_mode": {
    "name": "ipython",
    "version": 2
   },
   "file_extension": ".py",
   "mimetype": "text/x-python",
   "name": "python",
   "nbconvert_exporter": "python",
   "pygments_lexer": "ipython2",
   "version": "2.7.6"
  }
 },
 "nbformat": 4,
 "nbformat_minor": 5
}
