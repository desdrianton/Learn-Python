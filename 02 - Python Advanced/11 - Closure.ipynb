{
 "cells": [
  {
   "metadata": {},
   "cell_type": "markdown",
   "source": "# Inner Function can Access outer variable",
   "id": "7d7955bb036f5689"
  },
  {
   "metadata": {
    "ExecuteTime": {
     "end_time": "2024-07-05T20:59:11.355488Z",
     "start_time": "2024-07-05T20:59:11.349814Z"
    }
   },
   "cell_type": "code",
   "source": [
    "def outer(num):\n",
    "    def inner():\n",
    "        print(\"Inner: %d\" % num)\n",
    "        \n",
    "    inner()\n",
    "    print(\"Outer: %d\" % num)\n",
    "\n",
    "outer(5)\n",
    "        "
   ],
   "id": "ed3f642de5f7afdf",
   "outputs": [
    {
     "name": "stdout",
     "output_type": "stream",
     "text": [
      "Inner: 5\n",
      "Outer: 5\n"
     ]
    }
   ],
   "execution_count": 2
  },
  {
   "metadata": {},
   "cell_type": "markdown",
   "source": [
    "---\n",
    "# Without 'nonlocal'"
   ],
   "id": "c0dfdfe0f53629c8"
  },
  {
   "metadata": {
    "ExecuteTime": {
     "end_time": "2024-07-05T20:59:27.093718Z",
     "start_time": "2024-07-05T20:59:27.089211Z"
    }
   },
   "cell_type": "code",
   "source": [
    "# Without 'nonlocal'\n",
    "def outer(num):\n",
    "    def inner():\n",
    "        num = 10\n",
    "        print(\"Inner: %d\" % num)\n",
    "        \n",
    "    inner()\n",
    "    print(\"Outer: %d\" % num)\n",
    "\n",
    "outer(5)"
   ],
   "id": "e7f6fe3bf584c9da",
   "outputs": [
    {
     "name": "stdout",
     "output_type": "stream",
     "text": [
      "Inner: 10\n",
      "Outer: 5\n"
     ]
    }
   ],
   "execution_count": 3
  },
  {
   "metadata": {},
   "cell_type": "markdown",
   "source": [
    "---\n",
    "# With 'local'"
   ],
   "id": "25b1b32f2fe9d245"
  },
  {
   "metadata": {
    "ExecuteTime": {
     "end_time": "2024-07-05T21:00:23.845276Z",
     "start_time": "2024-07-05T21:00:23.840378Z"
    }
   },
   "cell_type": "code",
   "source": [
    "# With 'nonlocal'\n",
    "def outer(num):\n",
    "    def inner():\n",
    "        nonlocal num\n",
    "        num = 10\n",
    "        print(\"Inner: %d\" % num)\n",
    "        \n",
    "    inner()\n",
    "    print(\"Outer: %d\" % num)\n",
    "\n",
    "outer(5)"
   ],
   "id": "cc845e7b0fc4056a",
   "outputs": [
    {
     "name": "stdout",
     "output_type": "stream",
     "text": [
      "Inner: 10\n",
      "Outer: 10\n"
     ]
    }
   ],
   "execution_count": 4
  }
 ],
 "metadata": {
  "kernelspec": {
   "display_name": "Python 3",
   "language": "python",
   "name": "python3"
  },
  "language_info": {
   "codemirror_mode": {
    "name": "ipython",
    "version": 2
   },
   "file_extension": ".py",
   "mimetype": "text/x-python",
   "name": "python",
   "nbconvert_exporter": "python",
   "pygments_lexer": "ipython2",
   "version": "2.7.6"
  }
 },
 "nbformat": 4,
 "nbformat_minor": 5
}
