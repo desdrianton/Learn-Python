{
 "cells": [
  {
   "metadata": {},
   "cell_type": "markdown",
   "source": "# Multiple Function Arguments",
   "id": "a0ef5b5b97786fd"
  },
  {
   "metadata": {},
   "cell_type": "markdown",
   "source": [
    "---\n",
    "# *parameter_name"
   ],
   "id": "9f67f2129bb7fb60"
  },
  {
   "metadata": {
    "ExecuteTime": {
     "end_time": "2024-07-04T21:19:36.641284Z",
     "start_time": "2024-07-04T21:19:36.634195Z"
    }
   },
   "cell_type": "code",
   "source": [
    "def my_func(a, b, *other_params):\n",
    "    print(a, b)\n",
    "    print(other_params)\n",
    "\n",
    "my_func(\"aa\", \"bb\", \"cc\", \"dd\", \"ee\", \"ff\", \"gg\", \"hh\")"
   ],
   "id": "b7be9eb8f3d8b4eb",
   "outputs": [
    {
     "name": "stdout",
     "output_type": "stream",
     "text": [
      "aa bb\n",
      "('cc', 'dd', 'ee', 'ff', 'gg', 'hh')\n"
     ]
    }
   ],
   "execution_count": 1
  },
  {
   "metadata": {},
   "cell_type": "markdown",
   "source": [
    "---\n",
    "# **parameter_name"
   ],
   "id": "c03d83b4defa05ca"
  },
  {
   "metadata": {
    "ExecuteTime": {
     "end_time": "2024-07-08T12:04:45.497089Z",
     "start_time": "2024-07-08T12:04:45.491305Z"
    }
   },
   "cell_type": "code",
   "source": [
    "def buy_car(**options):\n",
    "    print(\"Brand: \" + options.get(\"brand\"))\n",
    "    print(\"Count: \" + str(options.get(\"count\")))\n",
    "        \n",
    "\n",
    "buy_car(brand=\"Honda\", count=10, parameter_opo_iki=\"abc\")"
   ],
   "id": "faade32428d0f886",
   "outputs": [
    {
     "name": "stdout",
     "output_type": "stream",
     "text": [
      "Brand: Honda\n",
      "Count: 10\n"
     ]
    }
   ],
   "execution_count": 1
  }
 ],
 "metadata": {
  "kernelspec": {
   "display_name": "Python 3",
   "language": "python",
   "name": "python3"
  },
  "language_info": {
   "codemirror_mode": {
    "name": "ipython",
    "version": 2
   },
   "file_extension": ".py",
   "mimetype": "text/x-python",
   "name": "python",
   "nbconvert_exporter": "python",
   "pygments_lexer": "ipython2",
   "version": "2.7.6"
  }
 },
 "nbformat": 4,
 "nbformat_minor": 5
}
