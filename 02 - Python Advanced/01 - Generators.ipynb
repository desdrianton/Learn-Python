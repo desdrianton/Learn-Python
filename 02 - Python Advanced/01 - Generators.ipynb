{
 "cells": [
  {
   "metadata": {},
   "cell_type": "markdown",
   "source": [
    "# Generators\n",
    "The yield statement suspends a function’s execution and sends a value back to the caller, but retains enough state to enable the function to resume where it left off. \n",
    "\n",
    "When the function resumes, it continues execution immediately after the last yield run. This allows its code to produce a series of values over time, rather than computing them at once and sending them back like a list.\n",
    "\n",
    "A generator function is defined just like a normal function, but whenever it needs to generate a value, it does so with the yield keyword rather than return. If the body of a def contains yield, the function automatically becomes a generator function."
   ],
   "id": "3197312c3d882e15"
  },
  {
   "metadata": {
    "ExecuteTime": {
     "end_time": "2024-07-03T23:07:16.691376Z",
     "start_time": "2024-07-03T23:07:16.686054Z"
    }
   },
   "cell_type": "code",
   "source": [
    "def simple_yield_generator():\n",
    "    yield 1\n",
    "    yield 2\n",
    "    yield 3\n",
    "    print(\"end of simple_yield_generator function\")\n",
    "\n",
    "result = simple_yield_generator()\n",
    "for i in result:\n",
    "    print(i)\n",
    "    print(\"for loop body\")"
   ],
   "id": "dafd3f057ed88b1b",
   "outputs": [
    {
     "name": "stdout",
     "output_type": "stream",
     "text": [
      "1\n",
      "for loop\n",
      "2\n",
      "for loop\n",
      "3\n",
      "for loop\n",
      "end of simple_yield_generator function\n"
     ]
    }
   ],
   "execution_count": 6
  },
  {
   "metadata": {},
   "cell_type": "markdown",
   "source": [
    "---\n",
    "# yield vs return\n",
    "Return sends a specified value back to its caller whereas Yield can produce a sequence of values. \n",
    "\n",
    "We should use yield when we want to iterate over a sequence, but don’t want to store the entire sequence in memory. Yield is used in Python generators. A generator function is defined just like a normal function, but whenever it needs to generate a value, it does so with the yield keyword rather than return. If the body of a def contains yield, the function automatically becomes a generator function. "
   ],
   "id": "c88b2e354d014089"
  },
  {
   "metadata": {},
   "cell_type": "markdown",
   "source": [
    "---\n",
    "# Infinite Generator "
   ],
   "id": "fe7e5a0b12d32d61"
  },
  {
   "metadata": {
    "ExecuteTime": {
     "end_time": "2024-07-03T23:28:18.699585Z",
     "start_time": "2024-07-03T23:28:18.692968Z"
    }
   },
   "cell_type": "code",
   "source": [
    "# A Python program to generate squares from 1\n",
    "# to 100 using yield and therefore generator\n",
    " \n",
    "# An infinite generator function that prints\n",
    "# next square number. It starts with 1\n",
    " \n",
    " \n",
    "def next_square():\n",
    "    num = 1\n",
    " \n",
    "    # An Infinite loop to generate squares\n",
    "    while True:\n",
    "        yield num * num\n",
    "        num += 1  # Next execution resumes\n",
    "        # from this point\n",
    " \n",
    " \n",
    "# Driver code to test above generator\n",
    "# function\n",
    "for square_num in next_square():\n",
    "    if square_num > 100:\n",
    "        break\n",
    "    print(square_num)"
   ],
   "id": "3dd089502585a796",
   "outputs": [
    {
     "name": "stdout",
     "output_type": "stream",
     "text": [
      "1\n",
      "4\n",
      "9\n",
      "16\n",
      "25\n",
      "36\n",
      "49\n",
      "64\n",
      "81\n",
      "100\n"
     ]
    }
   ],
   "execution_count": 7
  },
  {
   "metadata": {},
   "cell_type": "code",
   "outputs": [],
   "execution_count": null,
   "source": "",
   "id": "9b9ba73322223fa6"
  }
 ],
 "metadata": {
  "kernelspec": {
   "display_name": "Python 3",
   "language": "python",
   "name": "python3"
  },
  "language_info": {
   "codemirror_mode": {
    "name": "ipython",
    "version": 2
   },
   "file_extension": ".py",
   "mimetype": "text/x-python",
   "name": "python",
   "nbconvert_exporter": "python",
   "pygments_lexer": "ipython2",
   "version": "2.7.6"
  }
 },
 "nbformat": 4,
 "nbformat_minor": 5
}
