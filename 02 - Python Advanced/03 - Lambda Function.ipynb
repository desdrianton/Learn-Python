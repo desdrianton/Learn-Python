{
 "cells": [
  {
   "metadata": {},
   "cell_type": "markdown",
   "source": "# Lambda Functions",
   "id": "f4a8721dba62d1f9"
  },
  {
   "metadata": {
    "ExecuteTime": {
     "end_time": "2024-07-04T21:06:45.189960Z",
     "start_time": "2024-07-04T21:06:45.185638Z"
    }
   },
   "cell_type": "code",
   "source": [
    "# Without lambda function\n",
    "def sum_numbers(a, b):\n",
    "    return a + b\n",
    "\n",
    "print(sum_numbers(1, 2))"
   ],
   "id": "1d8bbc3619175fda",
   "outputs": [
    {
     "name": "stdout",
     "output_type": "stream",
     "text": [
      "3\n"
     ]
    }
   ],
   "execution_count": 3
  },
  {
   "metadata": {
    "ExecuteTime": {
     "end_time": "2024-07-04T21:18:49.079812Z",
     "start_time": "2024-07-04T21:18:49.074757Z"
    }
   },
   "cell_type": "code",
   "source": [
    "# With lambda function\n",
    "sum_numbers_with_lambda = lambda a, b: a + b\n",
    "print(sum_numbers_with_lambda(1, 2))"
   ],
   "id": "dedaf56227c2c5a",
   "outputs": [
    {
     "name": "stdout",
     "output_type": "stream",
     "text": [
      "3\n"
     ]
    }
   ],
   "execution_count": 4
  },
  {
   "metadata": {},
   "cell_type": "code",
   "outputs": [],
   "execution_count": null,
   "source": "",
   "id": "2690605d4649bd24"
  }
 ],
 "metadata": {
  "kernelspec": {
   "display_name": "Python 3",
   "language": "python",
   "name": "python3"
  },
  "language_info": {
   "codemirror_mode": {
    "name": "ipython",
    "version": 2
   },
   "file_extension": ".py",
   "mimetype": "text/x-python",
   "name": "python",
   "nbconvert_exporter": "python",
   "pygments_lexer": "ipython2",
   "version": "2.7.6"
  }
 },
 "nbformat": 4,
 "nbformat_minor": 5
}
