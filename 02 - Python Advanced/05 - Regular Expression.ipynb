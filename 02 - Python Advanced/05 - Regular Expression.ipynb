{
 "cells": [
  {
   "metadata": {},
   "cell_type": "markdown",
   "source": "# Regular Expression",
   "id": "26cd6e8b491dafc"
  },
  {
   "metadata": {
    "ExecuteTime": {
     "end_time": "2024-07-04T23:43:01.006067Z",
     "start_time": "2024-07-04T23:43:01.000828Z"
    }
   },
   "cell_type": "code",
   "source": [
    "# Exercise: make a regular expression that will match an email\n",
    "import re\n",
    "def check_pattern(pattern_string, text):\n",
    "    pattern = re.compile(pattern_string)\n",
    "    return len(re.findall(pattern, text)) != 0\n",
    "            \n",
    "email_pattern = r\"\\\"?([-a-zA-Z0-9.`?{}]+@\\w+\\.\\w+)\\\"?\"\n",
    "email_list = [\"abc@def.ghi\", \"abc\", \"abc.def\", \"abc@def\"] \n",
    "\n",
    "for an_email in email_list:\n",
    "    print(\"'%s' => %s\" % (an_email, check_pattern(email_pattern, an_email)))"
   ],
   "id": "374e051dccd2cdb1",
   "outputs": [
    {
     "name": "stdout",
     "output_type": "stream",
     "text": [
      "'abc@def.ghi' => True\n",
      "'abc' => False\n",
      "'abc.def' => False\n",
      "'abc@def' => False\n"
     ]
    }
   ],
   "execution_count": 28
  },
  {
   "metadata": {},
   "cell_type": "code",
   "outputs": [],
   "execution_count": null,
   "source": "",
   "id": "c33d61f5ff66a8e9"
  }
 ],
 "metadata": {
  "kernelspec": {
   "display_name": "Python 3",
   "language": "python",
   "name": "python3"
  },
  "language_info": {
   "codemirror_mode": {
    "name": "ipython",
    "version": 2
   },
   "file_extension": ".py",
   "mimetype": "text/x-python",
   "name": "python",
   "nbconvert_exporter": "python",
   "pygments_lexer": "ipython2",
   "version": "2.7.6"
  }
 },
 "nbformat": 4,
 "nbformat_minor": 5
}
