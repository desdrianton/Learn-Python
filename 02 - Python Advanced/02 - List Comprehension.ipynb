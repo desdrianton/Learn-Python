{
 "cells": [
  {
   "metadata": {},
   "cell_type": "markdown",
   "source": "# List Comprehension",
   "id": "24f0f112cd865dde"
  },
  {
   "metadata": {
    "ExecuteTime": {
     "end_time": "2024-07-04T20:55:38.235837Z",
     "start_time": "2024-07-04T20:55:38.229715Z"
    }
   },
   "cell_type": "code",
   "source": [
    "# Without List Comprehension\n",
    "sentence = \"the quick brown fox jumps over the lazy dog\"\n",
    "words = sentence.split()\n",
    "print(\"original: %s\" % words)\n",
    "\n",
    "new_words = []\n",
    "for word in words:\n",
    "    if word != \"the\":\n",
    "        new_words.append(word)\n",
    "\n",
    "print(\"New words: %s\" % new_words)"
   ],
   "id": "81c8cdb222fa48bf",
   "outputs": [
    {
     "name": "stdout",
     "output_type": "stream",
     "text": [
      "original: ['the', 'quick', 'brown', 'fox', 'jumps', 'over', 'the', 'lazy', 'dog']\n",
      "New words: ['quick', 'brown', 'fox', 'jumps', 'over', 'lazy', 'dog']\n"
     ]
    }
   ],
   "execution_count": 3
  },
  {
   "metadata": {
    "ExecuteTime": {
     "end_time": "2024-07-04T20:57:34.244882Z",
     "start_time": "2024-07-04T20:57:34.240579Z"
    }
   },
   "cell_type": "code",
   "source": [
    "# Using List Comprehension\n",
    "sentence = \"the quick brown fox jumps over the lazy dog\"\n",
    "words = sentence.split()\n",
    "print(\"original: %s\" % words)\n",
    "\n",
    "new_words = [word for word in words if word != \"the\"]\n",
    "print(\"New words: %s\" % new_words)"
   ],
   "id": "869946663a5fa9bb",
   "outputs": [
    {
     "name": "stdout",
     "output_type": "stream",
     "text": [
      "original: ['the', 'quick', 'brown', 'fox', 'jumps', 'over', 'the', 'lazy', 'dog']\n",
      "New words: ['quick', 'brown', 'fox', 'jumps', 'over', 'lazy', 'dog']\n"
     ]
    }
   ],
   "execution_count": 5
  },
  {
   "metadata": {},
   "cell_type": "code",
   "outputs": [],
   "execution_count": null,
   "source": "",
   "id": "4bfcd338910ce029"
  }
 ],
 "metadata": {
  "kernelspec": {
   "display_name": "Python 3",
   "language": "python",
   "name": "python3"
  },
  "language_info": {
   "codemirror_mode": {
    "name": "ipython",
    "version": 2
   },
   "file_extension": ".py",
   "mimetype": "text/x-python",
   "name": "python",
   "nbconvert_exporter": "python",
   "pygments_lexer": "ipython2",
   "version": "2.7.6"
  }
 },
 "nbformat": 4,
 "nbformat_minor": 5
}
