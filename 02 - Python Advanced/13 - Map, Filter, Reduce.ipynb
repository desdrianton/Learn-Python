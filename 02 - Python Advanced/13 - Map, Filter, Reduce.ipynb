{
 "cells": [
  {
   "metadata": {},
   "cell_type": "markdown",
   "source": [
    "# Map, Filter, Reduce\n",
    "Map, Filter, and Reduce are paradigms of functional programming. They allow the programmer (you) to write simpler, shorter code, without neccessarily needing to bother about intricacies like loops and branching.\n",
    "\n",
    "Essentially, these three functions allow you to apply a function across a number of iterables, in one fell swoop. map and filter come built-in with Python (in the __builtins__ module) and require no importing. reduce, however, needs to be imported as it resides in the functools module. Let's get a better understanding of how they all work, starting with map."
   ],
   "id": "e2cc732b38c6e9a7"
  },
  {
   "metadata": {},
   "cell_type": "markdown",
   "source": [
    "---\n",
    "## Map\n",
    "The map() function in python has the following syntax:\n",
    "\n",
    "map(func, *iterables)\n",
    "\n",
    "Where func is the function on which each element in iterables (as many as they are) would be applied on. Notice the asterisk(*) on iterables? It means there can be as many iterables as possible, in so far func has that exact number as required input arguments. Before we move on to an example, it's important that you note the following:\n",
    "\n",
    "In Python 2, the map() function returns a list. In Python 3, however, the function returns a map object which is a generator object. To get the result as a list, the built-in list() function can be called on the map object. i.e. list(map(func, *iterables))\n",
    "The number of arguments to func must be the number of iterables listed."
   ],
   "id": "2bc6e3731753d5c9"
  },
  {
   "metadata": {
    "ExecuteTime": {
     "end_time": "2024-07-06T01:45:35.380091Z",
     "start_time": "2024-07-06T01:45:35.375258Z"
    }
   },
   "cell_type": "code",
   "source": [
    "# Without Map\n",
    "my_pets = ['alfred', 'tabitha', 'william', 'arla']\n",
    "uppered_pets = []\n",
    "\n",
    "for pet in my_pets:\n",
    "    pet_ = pet.upper()\n",
    "    uppered_pets.append(pet_)\n",
    "\n",
    "print(uppered_pets)"
   ],
   "id": "39147a7cb6bbfc12",
   "outputs": [
    {
     "name": "stdout",
     "output_type": "stream",
     "text": [
      "['ALFRED', 'TABITHA', 'WILLIAM', 'ARLA']\n"
     ]
    }
   ],
   "execution_count": 1
  },
  {
   "metadata": {
    "ExecuteTime": {
     "end_time": "2024-07-06T01:46:05.252179Z",
     "start_time": "2024-07-06T01:46:05.247215Z"
    }
   },
   "cell_type": "code",
   "source": [
    "# With Map\n",
    "my_pets = ['alfred', 'tabitha', 'william', 'arla']\n",
    "uppered_pets = list(map(str.upper, my_pets))\n",
    "print(uppered_pets)"
   ],
   "id": "f20a38704d7d6bee",
   "outputs": [
    {
     "name": "stdout",
     "output_type": "stream",
     "text": [
      "['ALFRED', 'TABITHA', 'WILLIAM', 'ARLA']\n"
     ]
    }
   ],
   "execution_count": 2
  },
  {
   "metadata": {},
   "cell_type": "markdown",
   "source": "#### Function with multiple parameter",
   "id": "eff75ca37f29a3a7"
  },
  {
   "metadata": {
    "ExecuteTime": {
     "end_time": "2024-07-06T02:02:34.580843Z",
     "start_time": "2024-07-06T02:02:34.576298Z"
    }
   },
   "cell_type": "code",
   "source": [
    "def my_concat(arg1, arg2):\n",
    "    return str(arg1) + \"-\" + str(arg2)\n",
    "\n",
    "list1 = [\"A\", \"B\", \"C\", \"D\", \"E\"]\n",
    "list2 = [1, 2, 3, 4, 5]\n",
    "result = list(map(my_concat, list1, list2))\n",
    "print(result)\n",
    "\n",
    "# Bagaimana bila panjang list1 dan list2 tidak sama?\n",
    "list2 = [1, 2]\n",
    "result = list(map(my_concat, list1, list2))\n",
    "print(result)"
   ],
   "id": "ba0b5a42f03ed7cd",
   "outputs": [
    {
     "name": "stdout",
     "output_type": "stream",
     "text": [
      "['A-1', 'B-2', 'C-3', 'D-4', 'E-5']\n",
      "['A-1', 'B-2']\n"
     ]
    }
   ],
   "execution_count": 5
  },
  {
   "metadata": {
    "ExecuteTime": {
     "end_time": "2024-07-06T02:11:42.566413Z",
     "start_time": "2024-07-06T02:11:42.560834Z"
    }
   },
   "cell_type": "code",
   "source": [
    "# Using Lambda\n",
    "list1 = [\"K\", \"L\", \"M\", \"N\", \"O\"]\n",
    "list2 = [111, 222, 333, 444, 555]\n",
    "result = list(map(lambda x, y: (str(x) + \"-\" + str(y)), list1, list2))\n",
    "print(result)"
   ],
   "id": "487ae738ebb05e97",
   "outputs": [
    {
     "name": "stdout",
     "output_type": "stream",
     "text": [
      "['K-111', 'L-222', 'M-333', 'N-444', 'O-555']\n"
     ]
    }
   ],
   "execution_count": 7
  },
  {
   "metadata": {},
   "cell_type": "markdown",
   "source": [
    "---\n",
    "# Filter\n",
    "While map() passes each element in the iterable through a function and returns the result of all elements having passed through the function, filter(), first of all, requires the function to return boolean values (true or false) and then passes each element in the iterable through the function, \"filtering\" away those that are false. It has the following syntax:\n",
    "\n",
    "filter(func, iterable)\n",
    "\n",
    "The following points are to be noted regarding filter():\n",
    "\n",
    "Unlike map(), only one iterable is required.\n",
    "The func argument is required to return a boolean type. If it doesn't, filter simply returns the iterable passed to it. Also, as only one iterable is required, it's implicit that func must only take one argument.\n",
    "filter passes each element in the iterable through func and returns only the ones that evaluate to true. I mean, it's right there in the name -- a \"filter\"."
   ],
   "id": "75b8c6787ea6a1d0"
  },
  {
   "metadata": {
    "ExecuteTime": {
     "end_time": "2024-07-06T02:05:22.887918Z",
     "start_time": "2024-07-06T02:05:22.884137Z"
    }
   },
   "cell_type": "code",
   "source": [
    "scores = [66, 90, 68, 59, 76, 60, 88, 74, 81, 65]\n",
    "\n",
    "def is_high_score(score):\n",
    "    return score > 75\n",
    "\n",
    "over_75 = list(filter(is_high_score, scores))\n",
    "\n",
    "print(over_75)"
   ],
   "id": "553ca5428bf18d77",
   "outputs": [
    {
     "name": "stdout",
     "output_type": "stream",
     "text": [
      "[90, 76, 88, 81]\n"
     ]
    }
   ],
   "execution_count": 6
  },
  {
   "metadata": {
    "ExecuteTime": {
     "end_time": "2024-07-06T02:12:44.487770Z",
     "start_time": "2024-07-06T02:12:44.483410Z"
    }
   },
   "cell_type": "code",
   "source": [
    "# Check Palindrom\n",
    "\n",
    "dromes = (\"demigod\", \"rewire\", \"madam\", \"freer\", \"anutforajaroftuna\", \"kiosk\")\n",
    "\n",
    "palindromes = list(filter(lambda word: word == word[::-1], dromes))\n",
    "\n",
    "print(palindromes)"
   ],
   "id": "6f449688398aeacf",
   "outputs": [
    {
     "name": "stdout",
     "output_type": "stream",
     "text": [
      "['madam', 'anutforajaroftuna']\n"
     ]
    }
   ],
   "execution_count": 8
  },
  {
   "metadata": {},
   "cell_type": "markdown",
   "source": [
    "---\n",
    "# Reduce\n",
    "The reduce(fun,seq) function is used to apply a particular function passed in its argument to all of the list elements mentioned in the sequence passed along.\n",
    "\n",
    "This function is defined in “functools” module.\n",
    "\n",
    "Working :  \n",
    "\n",
    "- At first step, first two elements of sequence are picked and the result is obtained.\n",
    "- Next step is to apply the same function to the previously attained result and the number just succeeding the second element and the result is again stored.\n",
    "- This process continues till no more elements are left in the container.\n",
    "- The final returned result is returned and printed on console."
   ],
   "id": "76270cf9852b3cd5"
  },
  {
   "metadata": {
    "ExecuteTime": {
     "end_time": "2024-07-06T02:19:38.177363Z",
     "start_time": "2024-07-06T02:19:38.172235Z"
    }
   },
   "cell_type": "code",
   "source": [
    "from functools import reduce\n",
    "\n",
    "def my_concat(a, b):\n",
    "    return str(a) + \"-\" + str(b)\n",
    "\n",
    "list1 = [\"A\", \"B\", 100, \"D\", 200]\n",
    "result = reduce(my_concat, list1)\n",
    "print(result)"
   ],
   "id": "4c8b262dc5b5204f",
   "outputs": [
    {
     "name": "stdout",
     "output_type": "stream",
     "text": [
      "A-B-100-D-200\n"
     ]
    }
   ],
   "execution_count": 10
  }
 ],
 "metadata": {
  "kernelspec": {
   "display_name": "Python 3",
   "language": "python",
   "name": "python3"
  },
  "language_info": {
   "codemirror_mode": {
    "name": "ipython",
    "version": 2
   },
   "file_extension": ".py",
   "mimetype": "text/x-python",
   "name": "python",
   "nbconvert_exporter": "python",
   "pygments_lexer": "ipython2",
   "version": "2.7.6"
  }
 },
 "nbformat": 4,
 "nbformat_minor": 5
}
