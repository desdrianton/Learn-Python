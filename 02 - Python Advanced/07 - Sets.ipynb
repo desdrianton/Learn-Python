{
 "cells": [
  {
   "metadata": {},
   "cell_type": "markdown",
   "source": "# Sets",
   "id": "5a7cef997ad2505d"
  },
  {
   "metadata": {
    "ExecuteTime": {
     "end_time": "2024-07-05T04:33:56.653633Z",
     "start_time": "2024-07-05T04:33:56.647608Z"
    }
   },
   "cell_type": "code",
   "source": [
    "# Declaration (1)\n",
    "my_set1 = {111, 111, 111, 222}\n",
    "\n",
    "# Declaration (2)\n",
    "my_set2 = set([\"aaa\", \"aaa\", \"aaa\", \"bbb\"])\n",
    "\n",
    "print(my_set1)\n",
    "print(my_set2)"
   ],
   "id": "65609cbc5051fd4e",
   "outputs": [
    {
     "name": "stdout",
     "output_type": "stream",
     "text": [
      "{222, 111}\n",
      "{'aaa', 'bbb'}\n"
     ]
    }
   ],
   "execution_count": 4
  },
  {
   "metadata": {},
   "cell_type": "markdown",
   "source": [
    "---\n",
    "# intersection"
   ],
   "id": "165d7f4a38a1856d"
  },
  {
   "metadata": {
    "ExecuteTime": {
     "end_time": "2024-07-05T04:37:08.190328Z",
     "start_time": "2024-07-05T04:37:08.186409Z"
    }
   },
   "cell_type": "code",
   "source": [
    "a = {111, 222, 333}\n",
    "b = {333, 444, 555}\n",
    "\n",
    "print(a.intersection(b))\n",
    "print(b.intersection(a))"
   ],
   "id": "bcca8e83e7951f3e",
   "outputs": [
    {
     "name": "stdout",
     "output_type": "stream",
     "text": [
      "{333}\n",
      "{333}\n"
     ]
    }
   ],
   "execution_count": 8
  },
  {
   "metadata": {},
   "cell_type": "markdown",
   "source": [
    "---\n",
    "# Symmetric Difference"
   ],
   "id": "520566d1619ab9f2"
  },
  {
   "metadata": {
    "ExecuteTime": {
     "end_time": "2024-07-05T04:37:10.275827Z",
     "start_time": "2024-07-05T04:37:10.268965Z"
    }
   },
   "cell_type": "code",
   "source": [
    "a = {111, 222, 333}\n",
    "b = {333, 444, 555}\n",
    "\n",
    "print(a.symmetric_difference(b))\n",
    "print(b.symmetric_difference(a))"
   ],
   "id": "f1c7a6fde7dddcb8",
   "outputs": [
    {
     "name": "stdout",
     "output_type": "stream",
     "text": [
      "{555, 111, 444, 222}\n",
      "{555, 111, 444, 222}\n"
     ]
    }
   ],
   "execution_count": 9
  },
  {
   "metadata": {},
   "cell_type": "markdown",
   "source": [
    "---\n",
    "# Difference"
   ],
   "id": "16e60b830e466485"
  },
  {
   "metadata": {
    "ExecuteTime": {
     "end_time": "2024-07-05T04:37:23.339143Z",
     "start_time": "2024-07-05T04:37:23.334073Z"
    }
   },
   "cell_type": "code",
   "source": [
    "a = {111, 222, 333}\n",
    "b = {333, 444, 555}\n",
    "\n",
    "print(a.difference(b))\n",
    "print(b.difference(a))"
   ],
   "id": "2d08d37f505e5b32",
   "outputs": [
    {
     "name": "stdout",
     "output_type": "stream",
     "text": [
      "{222, 111}\n",
      "{555, 444}\n"
     ]
    }
   ],
   "execution_count": 10
  },
  {
   "metadata": {},
   "cell_type": "markdown",
   "source": [
    "---\n",
    "# Union"
   ],
   "id": "a4a8b434eac2468f"
  },
  {
   "metadata": {
    "ExecuteTime": {
     "end_time": "2024-07-05T04:38:14.723045Z",
     "start_time": "2024-07-05T04:38:14.716937Z"
    }
   },
   "cell_type": "code",
   "source": [
    "a = {111, 222, 333}\n",
    "b = {333, 444, 555}\n",
    "\n",
    "print(a.union(b))\n",
    "print(b.union(a))"
   ],
   "id": "31090ee907831ce",
   "outputs": [
    {
     "name": "stdout",
     "output_type": "stream",
     "text": [
      "{555, 444, 333, 222, 111}\n",
      "{555, 444, 333, 222, 111}\n"
     ]
    }
   ],
   "execution_count": 11
  },
  {
   "metadata": {},
   "cell_type": "code",
   "outputs": [],
   "execution_count": null,
   "source": "",
   "id": "e638279073c116ed"
  }
 ],
 "metadata": {
  "kernelspec": {
   "display_name": "Python 3",
   "language": "python",
   "name": "python3"
  },
  "language_info": {
   "codemirror_mode": {
    "name": "ipython",
    "version": 2
   },
   "file_extension": ".py",
   "mimetype": "text/x-python",
   "name": "python",
   "nbconvert_exporter": "python",
   "pygments_lexer": "ipython2",
   "version": "2.7.6"
  }
 },
 "nbformat": 4,
 "nbformat_minor": 5
}
