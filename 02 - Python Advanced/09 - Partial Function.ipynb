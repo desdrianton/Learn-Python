{
 "cells": [
  {
   "metadata": {},
   "cell_type": "markdown",
   "source": [
    "# Partial Function\n",
    "You can create partial functions in python by using the partial function from the functools library.\n",
    "\n",
    "Partial functions allow one to derive a function with x parameters to a function with fewer parameters and fixed values set for the more limited function."
   ],
   "id": "c8c6cd1bb6e72df5"
  },
  {
   "metadata": {
    "ExecuteTime": {
     "end_time": "2024-07-05T11:54:28.537852Z",
     "start_time": "2024-07-05T11:54:28.533153Z"
    }
   },
   "cell_type": "code",
   "source": [
    "from functools import partial\n",
    "\n",
    "\n",
    "def jumlah(x, y, z):\n",
    "    print(\"x = %s\" % x)\n",
    "    print(\"y = %s\" % y)\n",
    "    print(\"z = %s\" % z)\n",
    "    \n",
    "    return x + y + z\n",
    "\n",
    "jumlah2 = partial(jumlah, 2, 3)\n",
    "print(\"Jumlah = %s\" % jumlah2(10))"
   ],
   "id": "422ba31ef4142b1b",
   "outputs": [
    {
     "name": "stdout",
     "output_type": "stream",
     "text": [
      "x = 2\n",
      "y = 3\n",
      "z = 10\n",
      "Jumlah = 15\n"
     ]
    }
   ],
   "execution_count": 6
  },
  {
   "metadata": {},
   "cell_type": "code",
   "outputs": [],
   "execution_count": null,
   "source": "",
   "id": "30f451071db521c"
  }
 ],
 "metadata": {
  "kernelspec": {
   "display_name": "Python 3",
   "language": "python",
   "name": "python3"
  },
  "language_info": {
   "codemirror_mode": {
    "name": "ipython",
    "version": 2
   },
   "file_extension": ".py",
   "mimetype": "text/x-python",
   "name": "python",
   "nbconvert_exporter": "python",
   "pygments_lexer": "ipython2",
   "version": "2.7.6"
  }
 },
 "nbformat": 4,
 "nbformat_minor": 5
}
