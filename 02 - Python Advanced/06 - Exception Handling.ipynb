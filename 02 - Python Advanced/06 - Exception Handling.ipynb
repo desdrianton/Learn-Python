{
 "cells": [
  {
   "metadata": {},
   "cell_type": "markdown",
   "source": "# Exception Handling",
   "id": "524a1ad8c3910671"
  },
  {
   "metadata": {
    "ExecuteTime": {
     "end_time": "2024-07-05T04:06:54.533065Z",
     "start_time": "2024-07-05T04:06:54.219502Z"
    }
   },
   "cell_type": "code",
   "source": [
    "def pembagian(num1, num2):\n",
    "    return num1 / num2\n",
    "\n",
    "print(pembagian(2,3))\n",
    "print(pembagian(2,0))"
   ],
   "id": "70da73facb6630be",
   "outputs": [
    {
     "name": "stdout",
     "output_type": "stream",
     "text": [
      "0.6666666666666666\n"
     ]
    },
    {
     "ename": "ZeroDivisionError",
     "evalue": "division by zero",
     "output_type": "error",
     "traceback": [
      "\u001B[1;31m---------------------------------------------------------------------------\u001B[0m",
      "\u001B[1;31mZeroDivisionError\u001B[0m                         Traceback (most recent call last)",
      "Cell \u001B[1;32mIn[2], line 5\u001B[0m\n\u001B[0;32m      2\u001B[0m     \u001B[38;5;28;01mreturn\u001B[39;00m num1 \u001B[38;5;241m/\u001B[39m num2\n\u001B[0;32m      4\u001B[0m \u001B[38;5;28mprint\u001B[39m(pembagian(\u001B[38;5;241m2\u001B[39m,\u001B[38;5;241m3\u001B[39m))\n\u001B[1;32m----> 5\u001B[0m \u001B[38;5;28mprint\u001B[39m(\u001B[43mpembagian\u001B[49m\u001B[43m(\u001B[49m\u001B[38;5;241;43m2\u001B[39;49m\u001B[43m,\u001B[49m\u001B[38;5;241;43m0\u001B[39;49m\u001B[43m)\u001B[49m)\n",
      "Cell \u001B[1;32mIn[2], line 2\u001B[0m, in \u001B[0;36mpembagian\u001B[1;34m(num1, num2)\u001B[0m\n\u001B[0;32m      1\u001B[0m \u001B[38;5;28;01mdef\u001B[39;00m \u001B[38;5;21mpembagian\u001B[39m(num1, num2):\n\u001B[1;32m----> 2\u001B[0m     \u001B[38;5;28;01mreturn\u001B[39;00m \u001B[43mnum1\u001B[49m\u001B[43m \u001B[49m\u001B[38;5;241;43m/\u001B[39;49m\u001B[43m \u001B[49m\u001B[43mnum2\u001B[49m\n",
      "\u001B[1;31mZeroDivisionError\u001B[0m: division by zero"
     ]
    }
   ],
   "execution_count": 2
  },
  {
   "metadata": {
    "ExecuteTime": {
     "end_time": "2024-07-05T04:08:35.508969Z",
     "start_time": "2024-07-05T04:08:35.503416Z"
    }
   },
   "cell_type": "code",
   "source": [
    "def pembagian(num1, num2):\n",
    "    try:\n",
    "        return num1 / num2\n",
    "    except:\n",
    "        \"Divide by zero\"\n",
    "\n",
    "print(pembagian(2,3))\n",
    "print(pembagian(2,0))"
   ],
   "id": "6425d39a9ed9f13b",
   "outputs": [
    {
     "name": "stdout",
     "output_type": "stream",
     "text": [
      "0.6666666666666666\n",
      "None\n"
     ]
    }
   ],
   "execution_count": 3
  },
  {
   "metadata": {},
   "cell_type": "code",
   "outputs": [],
   "execution_count": null,
   "source": "",
   "id": "db8cdac289173e5b"
  }
 ],
 "metadata": {
  "kernelspec": {
   "display_name": "Python 3",
   "language": "python",
   "name": "python3"
  },
  "language_info": {
   "codemirror_mode": {
    "name": "ipython",
    "version": 2
   },
   "file_extension": ".py",
   "mimetype": "text/x-python",
   "name": "python",
   "nbconvert_exporter": "python",
   "pygments_lexer": "ipython2",
   "version": "2.7.6"
  }
 },
 "nbformat": 4,
 "nbformat_minor": 5
}
