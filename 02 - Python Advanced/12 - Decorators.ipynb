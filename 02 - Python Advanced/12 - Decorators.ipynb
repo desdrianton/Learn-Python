{
 "cells": [
  {
   "metadata": {},
   "cell_type": "markdown",
   "source": "# Simple decorator",
   "id": "c9af8c39e43cf984"
  },
  {
   "metadata": {},
   "cell_type": "code",
   "outputs": [],
   "execution_count": null,
   "source": [
    "def my_decorator_run_twice(some_func):\n",
    "    def wrapper():\n",
    "        some_func()\n",
    "        some_func()\n",
    "    return wrapper\n",
    "\n",
    "\n",
    "@my_decorator_run_twice\n",
    "def my_func():\n",
    "    print(\"Some text\")\n",
    "\n",
    "\n",
    "my_func()"
   ],
   "id": "783082aed6b636cd"
  },
  {
   "metadata": {},
   "cell_type": "markdown",
   "source": [
    "---\n",
    "# Change the return value"
   ],
   "id": "13ab0db1afc1d85b"
  },
  {
   "metadata": {
    "ExecuteTime": {
     "end_time": "2024-07-05T21:40:19.571152Z",
     "start_time": "2024-07-05T21:40:19.567095Z"
    }
   },
   "cell_type": "code",
   "source": [
    "def double_the_result(some_func):\n",
    "    def wrapper(*args, **kwargs):\n",
    "        return 2 * some_func(*args, **kwargs)\n",
    "    return wrapper\n",
    "\n",
    "\n",
    "@double_the_result\n",
    "def multiply(num1, num2):\n",
    "    return num1 * num2\n",
    "\n",
    "\n",
    "print(multiply(2, 3))"
   ],
   "id": "2792583b25b1a63a",
   "outputs": [
    {
     "name": "stdout",
     "output_type": "stream",
     "text": [
      "12\n"
     ]
    }
   ],
   "execution_count": 13
  }
 ],
 "metadata": {
  "kernelspec": {
   "display_name": "Python 3",
   "language": "python",
   "name": "python3"
  },
  "language_info": {
   "codemirror_mode": {
    "name": "ipython",
    "version": 2
   },
   "file_extension": ".py",
   "mimetype": "text/x-python",
   "name": "python",
   "nbconvert_exporter": "python",
   "pygments_lexer": "ipython2",
   "version": "2.7.6"
  }
 },
 "nbformat": 4,
 "nbformat_minor": 5
}
