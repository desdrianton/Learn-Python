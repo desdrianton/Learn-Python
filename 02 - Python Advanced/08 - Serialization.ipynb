{
 "cells": [
  {
   "metadata": {},
   "cell_type": "markdown",
   "source": "# Load From File",
   "id": "7ba5bf4d1385017"
  },
  {
   "metadata": {
    "ExecuteTime": {
     "end_time": "2024-07-05T11:40:24.779995Z",
     "start_time": "2024-07-05T11:40:24.770607Z"
    }
   },
   "cell_type": "code",
   "source": [
    "import json\n",
    "open_file = open(\"example.json\")\n",
    "json_data = json.load(open_file)\n",
    "\n",
    "print(json_data)"
   ],
   "id": "b495d3900c74fd4",
   "outputs": [
    {
     "name": "stdout",
     "output_type": "stream",
     "text": [
      "{'name': 'Anton', 'gender': 'Male'}\n"
     ]
    }
   ],
   "execution_count": 2
  },
  {
   "metadata": {},
   "cell_type": "markdown",
   "source": [
    "---\n",
    "# dump\n",
    "To encode a data structure to JSON, use the \"dumps\" method. This method takes an object and returns a String:"
   ],
   "id": "7a741ca8c2a88fa2"
  },
  {
   "metadata": {
    "ExecuteTime": {
     "end_time": "2024-07-05T11:44:13.730275Z",
     "start_time": "2024-07-05T11:44:13.723741Z"
    }
   },
   "cell_type": "code",
   "source": [
    "import json\n",
    "json_string = json.dumps([1, 2, 3, \"a\", \"b\", \"c\"])\n",
    "print(json_string)"
   ],
   "id": "2db630ec2053bc5f",
   "outputs": [
    {
     "name": "stdout",
     "output_type": "stream",
     "text": [
      "[1, 2, 3, \"a\", \"b\", \"c\"]\n"
     ]
    }
   ],
   "execution_count": 5
  },
  {
   "metadata": {},
   "cell_type": "markdown",
   "source": [
    "---\n",
    "# pickle\n",
    "Python supports a Python proprietary data serialization method called pickle (and a faster alternative called cPickle)."
   ],
   "id": "36acd372a77a0951"
  },
  {
   "metadata": {
    "ExecuteTime": {
     "end_time": "2024-07-05T11:44:36.933672Z",
     "start_time": "2024-07-05T11:44:36.928687Z"
    }
   },
   "cell_type": "code",
   "source": [
    "import pickle\n",
    "pickled_string = pickle.dumps([1, 2, 3, \"a\", \"b\", \"c\"])\n",
    "print(pickle.loads(pickled_string))"
   ],
   "id": "d873000a310fb512",
   "outputs": [
    {
     "name": "stdout",
     "output_type": "stream",
     "text": [
      "[1, 2, 3, 'a', 'b', 'c']\n"
     ]
    }
   ],
   "execution_count": 6
  }
 ],
 "metadata": {
  "kernelspec": {
   "display_name": "Python 3",
   "language": "python",
   "name": "python3"
  },
  "language_info": {
   "codemirror_mode": {
    "name": "ipython",
    "version": 2
   },
   "file_extension": ".py",
   "mimetype": "text/x-python",
   "name": "python",
   "nbconvert_exporter": "python",
   "pygments_lexer": "ipython2",
   "version": "2.7.6"
  }
 },
 "nbformat": 4,
 "nbformat_minor": 5
}
