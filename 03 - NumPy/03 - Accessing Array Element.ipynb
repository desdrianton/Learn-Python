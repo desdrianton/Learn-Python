{
 "cells": [
  {
   "metadata": {},
   "cell_type": "markdown",
   "source": [
    "---\n",
    "# Accessing Single Element"
   ],
   "id": "f597b3fa1061a62c"
  },
  {
   "cell_type": "code",
   "id": "initial_id",
   "metadata": {
    "collapsed": true,
    "ExecuteTime": {
     "end_time": "2024-07-06T13:09:12.590605Z",
     "start_time": "2024-07-06T13:09:12.585561Z"
    }
   },
   "source": [
    "import numpy as np\n",
    "\n",
    "my_array = np.array([0, 111, 222, 333, 444])\n",
    "print(my_array)\n",
    "my_array[0] = 111\n",
    "print(my_array)"
   ],
   "outputs": [
    {
     "name": "stdout",
     "output_type": "stream",
     "text": [
      "[1 2 3 4 5]\n",
      "[111   2   3   4   5]\n"
     ]
    }
   ],
   "execution_count": 2
  },
  {
   "metadata": {},
   "cell_type": "markdown",
   "source": [
    "---\n",
    "# View Multiple Element"
   ],
   "id": "f2ab7eb797abec0a"
  },
  {
   "metadata": {
    "ExecuteTime": {
     "end_time": "2024-07-06T13:46:14.714776Z",
     "start_time": "2024-07-06T13:46:14.709042Z"
    }
   },
   "cell_type": "code",
   "source": [
    "# start:end:step\n",
    "my_array = np.array([0, 111, 222, 333, 444])\n",
    "print(my_array[0:5:2])\n",
    "\n",
    "# start:end:\n",
    "my_array = np.array([0, 111, 222, 333, 444])\n",
    "print(my_array[0:2:])\n",
    "\n",
    "# ::step\n",
    "my_array = np.array([0, 111, 222, 333, 444])\n",
    "print(my_array[::3])"
   ],
   "id": "9b66184e391ce14e",
   "outputs": [
    {
     "name": "stdout",
     "output_type": "stream",
     "text": [
      "[  0 222 444]\n",
      "[  0 111]\n",
      "[  0 333]\n"
     ]
    }
   ],
   "execution_count": 13
  },
  {
   "metadata": {},
   "cell_type": "code",
   "outputs": [],
   "execution_count": null,
   "source": "",
   "id": "54435d0d2db27af9"
  }
 ],
 "metadata": {
  "kernelspec": {
   "display_name": "Python 3",
   "language": "python",
   "name": "python3"
  },
  "language_info": {
   "codemirror_mode": {
    "name": "ipython",
    "version": 2
   },
   "file_extension": ".py",
   "mimetype": "text/x-python",
   "name": "python",
   "nbconvert_exporter": "python",
   "pygments_lexer": "ipython2",
   "version": "2.7.6"
  }
 },
 "nbformat": 4,
 "nbformat_minor": 5
}
