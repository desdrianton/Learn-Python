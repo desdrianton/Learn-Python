{
 "cells": [
  {
   "metadata": {},
   "cell_type": "markdown",
   "source": "",
   "id": "2cb3e541c49528d1"
  },
  {
   "metadata": {},
   "cell_type": "markdown",
   "source": [
    "---\n",
    "# np.array()"
   ],
   "id": "4c66756a9f21a3c3"
  },
  {
   "metadata": {
    "ExecuteTime": {
     "end_time": "2024-07-06T13:40:37.567879Z",
     "start_time": "2024-07-06T13:40:37.562437Z"
    }
   },
   "cell_type": "code",
   "source": [
    "import numpy as np\n",
    "\n",
    "# 1 Dimension\n",
    "my_array = np.array([111, 222, 333, 444, 555])\n",
    "print(my_array)\n",
    "print(type(my_array))\n",
    "print()\n",
    "\n",
    "# 2 Dimension\n",
    "my_array = np.array([[111, 222, 333, 444, 555], [666, 777, 888, 999, 000]])\n",
    "print(my_array)\n",
    "print()\n",
    "\n",
    "# 3 Dimension\n",
    "my_array = np.array([[[111, 222, 333, 444, 555], [666, 777, 888, 999, 000]], \n",
    "                     [[1, 2, 3, 4, 5],[6, 7, 8, 9, 0]]])\n",
    "print(my_array)\n"
   ],
   "id": "8f5239ba24ec8ea",
   "outputs": [
    {
     "name": "stdout",
     "output_type": "stream",
     "text": [
      "[111 222 333 444 555]\n",
      "<class 'numpy.ndarray'>\n",
      "\n",
      "[[111 222 333 444 555]\n",
      " [666 777 888 999   0]]\n",
      "\n",
      "[[[111 222 333 444 555]\n",
      "  [666 777 888 999   0]]\n",
      "\n",
      " [[  1   2   3   4   5]\n",
      "  [  6   7   8   9   0]]]\n"
     ]
    }
   ],
   "execution_count": 44
  },
  {
   "metadata": {},
   "cell_type": "markdown",
   "source": [
    "---\n",
    "# np.zeros()"
   ],
   "id": "7ad441cdb4313a0f"
  },
  {
   "metadata": {
    "ExecuteTime": {
     "end_time": "2024-07-06T10:42:20.436510Z",
     "start_time": "2024-07-06T10:42:20.431568Z"
    }
   },
   "cell_type": "code",
   "source": [
    "my_array = np.zeros(5)\n",
    "print(my_array)"
   ],
   "id": "10e6c302e6714d07",
   "outputs": [
    {
     "name": "stdout",
     "output_type": "stream",
     "text": [
      "[0. 0. 0. 0. 0.]\n",
      "<class 'numpy.ndarray'>\n"
     ]
    }
   ],
   "execution_count": 3
  },
  {
   "metadata": {},
   "cell_type": "markdown",
   "source": [
    "---\n",
    "# np.one()"
   ],
   "id": "373f7a60eb5668c"
  },
  {
   "metadata": {
    "ExecuteTime": {
     "end_time": "2024-07-06T12:55:22.667304Z",
     "start_time": "2024-07-06T12:55:22.663729Z"
    }
   },
   "cell_type": "code",
   "source": [
    "my_array = np.ones(5)\n",
    "print(my_array)"
   ],
   "id": "c9c6e40f5be0419f",
   "outputs": [
    {
     "name": "stdout",
     "output_type": "stream",
     "text": [
      "[1. 1. 1. 1. 1.]\n"
     ]
    }
   ],
   "execution_count": 14
  },
  {
   "metadata": {},
   "cell_type": "markdown",
   "source": [
    "---\n",
    "# np.empty()\n",
    "The function empty creates an array whose initial content is random and depends on the state of the memory.\n",
    "\n",
    "The reason to use empty over zeros (or something similar) is speed - just make sure to fill every element afterwards!"
   ],
   "id": "e0e0b0e5cc63e74c"
  },
  {
   "metadata": {
    "ExecuteTime": {
     "end_time": "2024-07-06T12:55:17.847538Z",
     "start_time": "2024-07-06T12:55:17.842851Z"
    }
   },
   "cell_type": "code",
   "source": [
    "my_array = np.empty(10)\n",
    "print(my_array)"
   ],
   "id": "d73f6184fe55dd11",
   "outputs": [
    {
     "name": "stdout",
     "output_type": "stream",
     "text": [
      "[ 56.02222222  98.02222222 140.02222222 182.02222222 224.02222222\n",
      " 266.02222222 308.02222222 350.02222222 392.02222222 403.32222222]\n"
     ]
    }
   ],
   "execution_count": 13
  },
  {
   "metadata": {},
   "cell_type": "markdown",
   "source": [
    "---\n",
    "# np.arange()"
   ],
   "id": "d1fd2a71e51b9f93"
  },
  {
   "metadata": {
    "ExecuteTime": {
     "end_time": "2024-07-06T12:58:01.343048Z",
     "start_time": "2024-07-06T12:58:01.338646Z"
    }
   },
   "cell_type": "code",
   "source": [
    "# Start from 0 to less than 5 with step 1\n",
    "my_array = np.arange(5)\n",
    "print(my_array)\n",
    "\n",
    "# Start from 10 to less than 50 with step 5\n",
    "my_array = np.arange(10, 50, 5)\n",
    "print(my_array)"
   ],
   "id": "8f6e2f8680982bb7",
   "outputs": [
    {
     "name": "stdout",
     "output_type": "stream",
     "text": [
      "[0 1 2 3 4]\n",
      "[10 15 20 25 30 35 40 45]\n"
     ]
    }
   ],
   "execution_count": 17
  },
  {
   "metadata": {},
   "cell_type": "markdown",
   "source": [
    "---\n",
    "# np.linspace()\n",
    "You can also use np.linspace() to create an array with values that are spaced linearly in a specified interval:"
   ],
   "id": "7e4abd49a4d88f12"
  },
  {
   "metadata": {
    "ExecuteTime": {
     "end_time": "2024-07-06T13:00:05.725938Z",
     "start_time": "2024-07-06T13:00:05.720998Z"
    }
   },
   "cell_type": "code",
   "source": [
    "my_array = np.linspace(1, 10, num=5)\n",
    "print(my_array)\n",
    "\n",
    "my_array = np.linspace(1, 10, num=10)\n",
    "print(my_array)\n"
   ],
   "id": "b50ec2c59d3dcfe5",
   "outputs": [
    {
     "name": "stdout",
     "output_type": "stream",
     "text": [
      "[ 1.    3.25  5.5   7.75 10.  ]\n",
      "[ 1.  2.  3.  4.  5.  6.  7.  8.  9. 10.]\n"
     ]
    }
   ],
   "execution_count": 21
  },
  {
   "metadata": {},
   "cell_type": "markdown",
   "source": [
    "---\n",
    "# Specifying your data type\n",
    "While the default data type is floating point (np.float64), you can explicitly specify which data type you want using the dtype keyword."
   ],
   "id": "e154cc8fd858e27d"
  },
  {
   "metadata": {
    "ExecuteTime": {
     "end_time": "2024-07-06T13:04:15.027600Z",
     "start_time": "2024-07-06T13:04:15.022537Z"
    }
   },
   "cell_type": "code",
   "source": [
    "my_array = np.zeros(15, dtype=np.int64)\n",
    "print(my_array)\n",
    "print(type(my_array[0]))"
   ],
   "id": "5dcfd17239970a02",
   "outputs": [
    {
     "name": "stdout",
     "output_type": "stream",
     "text": [
      "[0 0 0 0 0 0 0 0 0 0 0 0 0 0 0]\n",
      "<class 'numpy.int64'>\n"
     ]
    }
   ],
   "execution_count": 35
  },
  {
   "metadata": {},
   "cell_type": "code",
   "outputs": [],
   "execution_count": null,
   "source": "",
   "id": "85e2b466d2acc011"
  }
 ],
 "metadata": {
  "kernelspec": {
   "display_name": "Python 3",
   "language": "python",
   "name": "python3"
  },
  "language_info": {
   "codemirror_mode": {
    "name": "ipython",
    "version": 2
   },
   "file_extension": ".py",
   "mimetype": "text/x-python",
   "name": "python",
   "nbconvert_exporter": "python",
   "pygments_lexer": "ipython2",
   "version": "2.7.6"
  }
 },
 "nbformat": 4,
 "nbformat_minor": 5
}
