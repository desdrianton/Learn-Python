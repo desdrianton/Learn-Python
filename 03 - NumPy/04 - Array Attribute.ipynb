{
 "cells": [
  {
   "metadata": {},
   "cell_type": "markdown",
   "source": [
    "---\n",
    "# ndim, shape, size, dtype\n",
    "\n",
    "- **ndarray.ndim** will tell you the number of axes, or dimensions, of the array.\n",
    "- **ndarray.size** will tell you the total number of elements of the array. This is the product of the elements of the array’s shape.\n",
    "- **ndarray.shape** will display a tuple of integers that indicate the number of elements stored along each dimension of the array. If, for example, you have a 2-D array with 2 rows and 3 columns, the shape of your array is (2, 3)."
   ],
   "id": "53ddf03182da7b38"
  },
  {
   "metadata": {
    "ExecuteTime": {
     "end_time": "2024-07-06T13:55:06.877692Z",
     "start_time": "2024-07-06T13:55:06.872012Z"
    }
   },
   "cell_type": "code",
   "source": [
    "import numpy as np\n",
    "\n",
    "def array_info(array):\n",
    "    print(array)\n",
    "    print(\"Dimension: \" + str(array.ndim))\n",
    "    print(\"Shape: \" + str(array.shape))\n",
    "    print(\"Size: \" + str(array.size))\n",
    "    print(\"dtype: \" + str(array.dtype))\n",
    "    print()\n",
    "\n",
    "my_array = np.array([1, 2, 3, 4, 5])\n",
    "array_info(my_array)\n",
    "\n",
    "my_array = np.array([[1, 2, 3, 4, 5], [6, 7, 8, 9, 10]])\n",
    "array_info(my_array)\n",
    "\n",
    "my_array = np.array([[[[[[[[1.1, 2.2, 3.3, 4.4, 5.5]]]]]]]])\n",
    "array_info(my_array)"
   ],
   "id": "ff3f5daab71a630c",
   "outputs": [
    {
     "name": "stdout",
     "output_type": "stream",
     "text": [
      "[1 2 3 4 5]\n",
      "Dimension: 1\n",
      "Shape: (5,)\n",
      "Size: 5\n",
      "dtype: int32\n",
      "\n",
      "[[ 1  2  3  4  5]\n",
      " [ 6  7  8  9 10]]\n",
      "Dimension: 2\n",
      "Shape: (2, 5)\n",
      "Size: 10\n",
      "dtype: int32\n",
      "\n",
      "[[[[[[[[1.1 2.2 3.3 4.4 5.5]]]]]]]]\n",
      "Dimension: 8\n",
      "Shape: (1, 1, 1, 1, 1, 1, 1, 5)\n",
      "Size: 5\n",
      "dtype: float64\n",
      "\n"
     ]
    }
   ],
   "execution_count": 13
  },
  {
   "metadata": {},
   "cell_type": "code",
   "outputs": [],
   "execution_count": null,
   "source": "",
   "id": "8166430721af545e"
  }
 ],
 "metadata": {
  "kernelspec": {
   "display_name": "Python 3",
   "language": "python",
   "name": "python3"
  },
  "language_info": {
   "codemirror_mode": {
    "name": "ipython",
    "version": 2
   },
   "file_extension": ".py",
   "mimetype": "text/x-python",
   "name": "python",
   "nbconvert_exporter": "python",
   "pygments_lexer": "ipython2",
   "version": "2.7.6"
  }
 },
 "nbformat": 4,
 "nbformat_minor": 5
}
