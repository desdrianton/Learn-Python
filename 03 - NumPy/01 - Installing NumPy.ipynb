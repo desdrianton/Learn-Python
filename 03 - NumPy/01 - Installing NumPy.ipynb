{
 "cells": [
  {
   "metadata": {},
   "cell_type": "markdown",
   "source": [
    "# Installing NumPy\n",
    "\n",
    "pip install numpy"
   ],
   "id": "758783c14ebf5f1a"
  },
  {
   "metadata": {},
   "cell_type": "markdown",
   "source": [
    "---\n",
    "# Import NumPy"
   ],
   "id": "6e67a9889c371aa2"
  },
  {
   "metadata": {},
   "cell_type": "code",
   "outputs": [],
   "execution_count": null,
   "source": "import numpy as np",
   "id": "9ac025eb378420f4"
  },
  {
   "metadata": {},
   "cell_type": "markdown",
   "source": [
    "---\n",
    "# NumPy Arrays\n",
    "Most NumPy arrays have some restrictions. For instance:\n",
    "\n",
    "- All elements of the array must be of the **same type of data**.\n",
    "- Once created, the **total size of the the array can’t change**.\n",
    "- The shape must be **\"rectangular\"**, not “jagged”; e.g., each row of a two-dimensional array must have the same number of columns."
   ],
   "id": "b847d5b7f23aadbd"
  }
 ],
 "metadata": {
  "kernelspec": {
   "display_name": "Python 3",
   "language": "python",
   "name": "python3"
  },
  "language_info": {
   "codemirror_mode": {
    "name": "ipython",
    "version": 2
   },
   "file_extension": ".py",
   "mimetype": "text/x-python",
   "name": "python",
   "nbconvert_exporter": "python",
   "pygments_lexer": "ipython2",
   "version": "2.7.6"
  }
 },
 "nbformat": 4,
 "nbformat_minor": 5
}
