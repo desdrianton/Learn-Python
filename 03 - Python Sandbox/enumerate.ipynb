{
 "cells": [
  {
   "cell_type": "code",
   "execution_count": 9,
   "metadata": {},
   "outputs": [
    {
     "name": "stdout",
     "output_type": "stream",
     "text": [
      "['Halo', 'nama', 'saya', 'Anton.', 'Siapa', 'nama', 'mu', '?']\n",
      "{'Siapa', 'Anton.', '?', 'saya', 'nama', 'Halo', 'mu'}\n",
      "[(0, 'Siapa'), (1, 'Anton.'), (2, '?'), (3, 'saya'), (4, 'nama'), (5, 'Halo'), (6, 'mu')]\n"
     ]
    }
   ],
   "source": [
    "some_text = \"Halo nama saya Anton. Siapa nama mu ?\"\n",
    "\n",
    "my_word = some_text.split()\n",
    "my_word_set = set(my_word)\n",
    "my_word_enumerated = enumerate(my_word_set)\n",
    "\n",
    "print(my_word)\n",
    "print(my_word_set)\n",
    "print(list(my_word_enumerated))"
   ]
  },
  {
   "cell_type": "code",
   "execution_count": null,
   "metadata": {},
   "outputs": [],
   "source": []
  }
 ],
 "metadata": {
  "kernelspec": {
   "display_name": "Python 3 (ipykernel)",
   "language": "python",
   "name": "python3"
  },
  "language_info": {
   "codemirror_mode": {
    "name": "ipython",
    "version": 3
   },
   "file_extension": ".py",
   "mimetype": "text/x-python",
   "name": "python",
   "nbconvert_exporter": "python",
   "pygments_lexer": "ipython3",
   "version": "3.12.4"
  }
 },
 "nbformat": 4,
 "nbformat_minor": 2
}
