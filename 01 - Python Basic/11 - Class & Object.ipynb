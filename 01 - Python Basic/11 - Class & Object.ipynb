{
 "cells": [
  {
   "metadata": {},
   "cell_type": "markdown",
   "source": [
    "---\n",
    "# Class Declaration"
   ],
   "id": "b855c111642b1977"
  },
  {
   "metadata": {
    "ExecuteTime": {
     "end_time": "2024-07-03T10:46:17.196327Z",
     "start_time": "2024-07-03T10:46:17.190331Z"
    }
   },
   "cell_type": "code",
   "source": [
    "class MyClass:\n",
    "    my_var = \"Hello World\"\n",
    "    \n",
    "    def my_function(self):\n",
    "        print(self)\n",
    "\n",
    "my_obj = MyClass()\n",
    "my_obj.my_function()\n",
    "    "
   ],
   "id": "4423d1755552160f",
   "outputs": [
    {
     "name": "stdout",
     "output_type": "stream",
     "text": [
      "<__main__.MyClass object at 0x0000021BBB9CDBB0>\n"
     ]
    }
   ],
   "execution_count": 2
  },
  {
   "metadata": {},
   "cell_type": "markdown",
   "source": [
    "---\n",
    "# Accessing Object Variable"
   ],
   "id": "5cb90480fe705877"
  },
  {
   "metadata": {
    "ExecuteTime": {
     "end_time": "2024-07-03T10:47:01.851522Z",
     "start_time": "2024-07-03T10:47:01.847982Z"
    }
   },
   "cell_type": "code",
   "source": [
    "class MyClass:\n",
    "    my_var = \"Hello World\"\n",
    "    \n",
    "    def my_function(self):\n",
    "        print(self)\n",
    "\n",
    "my_obj = MyClass()\n",
    "print(my_obj.my_var)"
   ],
   "id": "6ea8cb9edb1ea977",
   "outputs": [
    {
     "name": "stdout",
     "output_type": "stream",
     "text": [
      "Hello World\n"
     ]
    }
   ],
   "execution_count": 3
  },
  {
   "metadata": {
    "ExecuteTime": {
     "end_time": "2024-07-03T10:48:09.889886Z",
     "start_time": "2024-07-03T10:48:09.885993Z"
    }
   },
   "cell_type": "code",
   "source": [
    "my_obj2 = MyClass()\n",
    "my_obj3 = MyClass()\n",
    "my_obj2.my_var = \"abc\"\n",
    "my_obj3.my_var = \"def\"\n",
    "print(my_obj2.my_var)\n",
    "print(my_obj3.my_var)"
   ],
   "id": "aade926ff7d3adde",
   "outputs": [
    {
     "name": "stdout",
     "output_type": "stream",
     "text": [
      "abc\n",
      "def\n"
     ]
    }
   ],
   "execution_count": 4
  },
  {
   "metadata": {},
   "cell_type": "markdown",
   "source": [
    "---\n",
    "# init\n",
    "The __init__() function, is a special function that is called when the class is being initiated. \n",
    "\n",
    "It's used for assigning values in a class."
   ],
   "id": "d9198f516062097e"
  },
  {
   "metadata": {
    "ExecuteTime": {
     "end_time": "2024-07-03T10:51:17.674338Z",
     "start_time": "2024-07-03T10:51:17.669362Z"
    }
   },
   "cell_type": "code",
   "source": [
    "class MyClass2:\n",
    "\n",
    "    def __init__(self, num1, num2):\n",
    "        self.num1 = num1\n",
    "        self.num2 = num2\n",
    "    \n",
    "    def multiply(self):\n",
    "        return self.num1 * self.num2\n",
    "    \n",
    "    def add(self):\n",
    "        return self.num1 + self.num2\n",
    "\n",
    "my_obj1 = MyClass2(10, 20)\n",
    "print(\"multiply: %s\" % my_obj1.multiply())\n",
    "print(\"add: %s\" % my_obj1.add())"
   ],
   "id": "7d5e4a46c9de648",
   "outputs": [
    {
     "name": "stdout",
     "output_type": "stream",
     "text": [
      "multiply: 200\n",
      "add: <bound method MyClass2.add of <__main__.MyClass2 object at 0x0000021BBBBA6360>>\n"
     ]
    }
   ],
   "execution_count": 6
  }
 ],
 "metadata": {
  "kernelspec": {
   "display_name": "Python 3",
   "language": "python",
   "name": "python3"
  },
  "language_info": {
   "codemirror_mode": {
    "name": "ipython",
    "version": 2
   },
   "file_extension": ".py",
   "mimetype": "text/x-python",
   "name": "python",
   "nbconvert_exporter": "python",
   "pygments_lexer": "ipython2",
   "version": "2.7.6"
  }
 },
 "nbformat": 4,
 "nbformat_minor": 5
}
