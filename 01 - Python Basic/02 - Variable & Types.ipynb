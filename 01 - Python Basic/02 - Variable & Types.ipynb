{
 "cells": [
  {
   "metadata": {},
   "cell_type": "markdown",
   "source": "Python is completely **object-oriented**, and not \"statically typed\". You do not need to declare variables before using them, or declare their type. Every variable in Python is an object.",
   "id": "492aac8358dc730c"
  },
  {
   "metadata": {},
   "cell_type": "markdown",
   "source": [
    "---\n",
    "# Numbers\n",
    "Python supports 3 types of numbers:\n",
    "\n",
    "1. Integers\n",
    "2. Float\n",
    "3. Complex numbers"
   ],
   "id": "4725e2f43d814896"
  },
  {
   "metadata": {
    "ExecuteTime": {
     "end_time": "2024-07-03T03:54:31.398182Z",
     "start_time": "2024-07-03T03:54:31.393189Z"
    }
   },
   "cell_type": "code",
   "source": [
    "# Integers (cara 1)\n",
    "my_int = 7\n",
    "print(my_int)\n",
    "print(type(my_int))\n",
    "print()\n",
    "\n",
    "# Integers (cara 2)\n",
    "my_int2 = int(10)\n",
    "print(my_int2)\n",
    "print(type(my_int2))"
   ],
   "id": "39e3f1f3c6874d4",
   "outputs": [
    {
     "name": "stdout",
     "output_type": "stream",
     "text": [
      "7\n",
      "<class 'int'>\n",
      "\n",
      "10\n",
      "<class 'int'>\n"
     ]
    }
   ],
   "execution_count": 14
  },
  {
   "metadata": {
    "ExecuteTime": {
     "end_time": "2024-07-03T03:54:31.431728Z",
     "start_time": "2024-07-03T03:54:31.426668Z"
    }
   },
   "cell_type": "code",
   "source": [
    "# Float (cara 1)\n",
    "my_float1 = 3.14\n",
    "print(my_float1)\n",
    "print(type(my_float1))\n",
    "print()\n",
    "\n",
    "# Float (cara 2)\n",
    "my_float2 = float(11.22)\n",
    "print(my_float2)\n",
    "print(type(my_float2))"
   ],
   "id": "76b599d0c156d17e",
   "outputs": [
    {
     "name": "stdout",
     "output_type": "stream",
     "text": [
      "3.14\n",
      "<class 'float'>\n",
      "\n",
      "11.22\n",
      "<class 'float'>\n"
     ]
    }
   ],
   "execution_count": 15
  },
  {
   "metadata": {
    "ExecuteTime": {
     "end_time": "2024-07-03T03:55:15.178418Z",
     "start_time": "2024-07-03T03:55:15.168532Z"
    }
   },
   "cell_type": "code",
   "source": [
    "# Complex numbers (cara 1)\n",
    "my_complex1 = 1 + 2j\n",
    "print(my_complex1)\n",
    "print(type(my_complex1))\n",
    "print(\"Real part: \", my_complex1.real)\n",
    "print(\"Imag part: \", my_complex1.imag)\n",
    "print()\n",
    "\n",
    "# Complex numbers (cara 2)\n",
    "my_complex2 = complex(11, 22)\n",
    "print(my_complex2)\n",
    "print(type(my_complex2))\n",
    "print(\"Real part: \", my_complex2.real)\n",
    "print(\"Imag part: \", my_complex2.imag)\n",
    "print()"
   ],
   "id": "c9c2e6842ff06938",
   "outputs": [
    {
     "name": "stdout",
     "output_type": "stream",
     "text": [
      "(1+2j)\n",
      "<class 'complex'>\n",
      "Real part:  1.0\n",
      "Imag part:  2.0\n",
      "\n",
      "(11+22j)\n",
      "<class 'complex'>\n",
      "Real part:  11.0\n",
      "Imag part:  22.0\n",
      "\n"
     ]
    }
   ],
   "execution_count": 19
  },
  {
   "metadata": {},
   "cell_type": "markdown",
   "source": [
    "---\n",
    "# String\n",
    "Strings are defined either with a single quote or a double quotes.\n",
    "\n",
    "The difference between the two is that using double quotes makes it easy to include apostrophes (whereas these would terminate the string if using single quotes)"
   ],
   "id": "a4c62f8ff7a01b32"
  },
  {
   "metadata": {
    "ExecuteTime": {
     "end_time": "2024-07-03T03:55:25.762901Z",
     "start_time": "2024-07-03T03:55:25.755958Z"
    }
   },
   "cell_type": "code",
   "source": [
    "# Cara 1\n",
    "my_string1 = \"abc\"\n",
    "print(my_string1)\n",
    "print(type(my_string1))\n",
    "print()\n",
    "\n",
    "# Cara 2\n",
    "my_string2 = 'def'\n",
    "print(my_string2)\n",
    "print(type(my_string2))"
   ],
   "id": "71ec82e3841178b7",
   "outputs": [
    {
     "name": "stdout",
     "output_type": "stream",
     "text": [
      "abc\n",
      "<class 'str'>\n",
      "\n",
      "def\n",
      "<class 'str'>\n"
     ]
    }
   ],
   "execution_count": 20
  },
  {
   "metadata": {},
   "cell_type": "markdown",
   "source": [
    "---\n",
    "# Operator +\n",
    "Operator + memiliki arti yang berbeda ketika type nya adalah number dan string"
   ],
   "id": "8a6e30e7ee72d43d"
  },
  {
   "metadata": {
    "ExecuteTime": {
     "end_time": "2024-07-03T04:02:07.850315Z",
     "start_time": "2024-07-03T04:02:07.845449Z"
    }
   },
   "cell_type": "code",
   "source": [
    "# Operator + on number\n",
    "one = 1\n",
    "two = 2\n",
    "three = one + two\n",
    "print(three)\n",
    "print()\n",
    "\n",
    "# Operator + on string\n",
    "string1 = \"Hello \"\n",
    "string2 = \"World\"\n",
    "string3 = string1 + string2\n",
    "print(string3)"
   ],
   "id": "2663868cbe81906b",
   "outputs": [
    {
     "name": "stdout",
     "output_type": "stream",
     "text": [
      "3\n",
      "\n",
      "Hello World\n"
     ]
    }
   ],
   "execution_count": 22
  },
  {
   "metadata": {},
   "cell_type": "markdown",
   "source": "Mixing operators between numbers and strings is not supported",
   "id": "6987e49821849ac0"
  },
  {
   "metadata": {
    "ExecuteTime": {
     "end_time": "2024-07-03T04:08:08.373870Z",
     "start_time": "2024-07-03T04:08:08.360076Z"
    }
   },
   "cell_type": "code",
   "source": [
    "one = 1\n",
    "string1 = \"Hello\"\n",
    "print(one + string1)"
   ],
   "id": "898aa9eb80e7b309",
   "outputs": [
    {
     "ename": "TypeError",
     "evalue": "unsupported operand type(s) for +: 'int' and 'str'",
     "output_type": "error",
     "traceback": [
      "\u001B[1;31m---------------------------------------------------------------------------\u001B[0m",
      "\u001B[1;31mTypeError\u001B[0m                                 Traceback (most recent call last)",
      "Cell \u001B[1;32mIn[31], line 3\u001B[0m\n\u001B[0;32m      1\u001B[0m one \u001B[38;5;241m=\u001B[39m \u001B[38;5;241m1\u001B[39m\n\u001B[0;32m      2\u001B[0m string1 \u001B[38;5;241m=\u001B[39m \u001B[38;5;124m\"\u001B[39m\u001B[38;5;124mHello\u001B[39m\u001B[38;5;124m\"\u001B[39m\n\u001B[1;32m----> 3\u001B[0m \u001B[38;5;28mprint\u001B[39m(\u001B[43mone\u001B[49m\u001B[43m \u001B[49m\u001B[38;5;241;43m+\u001B[39;49m\u001B[43m \u001B[49m\u001B[43mstring1\u001B[49m)\n",
      "\u001B[1;31mTypeError\u001B[0m: unsupported operand type(s) for +: 'int' and 'str'"
     ]
    }
   ],
   "execution_count": 31
  },
  {
   "metadata": {},
   "cell_type": "markdown",
   "source": [
    "---\n",
    "# Multi Assignment\n",
    "Assignments can be done on more than one variable \"simultaneously\" on the same line like this"
   ],
   "id": "ec8c252e35102574"
  },
  {
   "metadata": {
    "ExecuteTime": {
     "end_time": "2024-07-03T04:07:01.238159Z",
     "start_time": "2024-07-03T04:07:01.233952Z"
    }
   },
   "cell_type": "code",
   "source": [
    "# Multi assignment on numbers\n",
    "a, b, c = 1, 2, 3\n",
    "print(a, b, c)\n",
    "print()\n",
    "\n",
    "# Multi assignment on string\n",
    "s1, s2 = \"Hello\", \"World\",\n",
    "print(s1, s2)\n",
    "print()\n",
    "\n",
    "# Multi assignment (mixing type)\n",
    "a, b, c, d = 1, \"Two\", 3, \"Four\"\n",
    "print(a, b, c, d)"
   ],
   "id": "57319e1aaa9c4b0c",
   "outputs": [
    {
     "name": "stdout",
     "output_type": "stream",
     "text": [
      "1 2 3\n",
      "\n",
      "Hello World\n",
      "\n",
      "1 Two 3 Four\n"
     ]
    }
   ],
   "execution_count": 30
  },
  {
   "metadata": {},
   "cell_type": "markdown",
   "source": "Multi assignment tidak bekerja bila berbeda types",
   "id": "e7377dedf23b19bc"
  },
  {
   "metadata": {
    "ExecuteTime": {
     "end_time": "2024-07-03T04:05:45.978658Z",
     "start_time": "2024-07-03T04:05:45.975189Z"
    }
   },
   "cell_type": "code",
   "source": [
    "a, b = 1, \"ABC\"\n",
    "print(a, b)"
   ],
   "id": "ff425a1c812e15dd",
   "outputs": [
    {
     "name": "stdout",
     "output_type": "stream",
     "text": [
      "1 ABC\n"
     ]
    }
   ],
   "execution_count": 27
  }
 ],
 "metadata": {
  "kernelspec": {
   "display_name": "Python 3",
   "language": "python",
   "name": "python3"
  },
  "language_info": {
   "codemirror_mode": {
    "name": "ipython",
    "version": 2
   },
   "file_extension": ".py",
   "mimetype": "text/x-python",
   "name": "python",
   "nbconvert_exporter": "python",
   "pygments_lexer": "ipython2",
   "version": "2.7.6"
  }
 },
 "nbformat": 4,
 "nbformat_minor": 5
}
