{
 "cells": [
  {
   "metadata": {},
   "cell_type": "markdown",
   "source": [
    "---\n",
    "# len"
   ],
   "id": "b855c111642b1977"
  },
  {
   "metadata": {
    "ExecuteTime": {
     "end_time": "2024-07-03T08:05:02.719239Z",
     "start_time": "2024-07-03T08:05:02.713629Z"
    }
   },
   "cell_type": "code",
   "source": [
    "a_string = \"abcdefghij\"\n",
    "\n",
    "print(\"len: \" + str(len(a_string)))"
   ],
   "id": "5ef258bfca822775",
   "outputs": [
    {
     "name": "stdout",
     "output_type": "stream",
     "text": [
      "10\n"
     ]
    }
   ],
   "execution_count": 4
  },
  {
   "metadata": {},
   "cell_type": "markdown",
   "source": [
    "---\n",
    "# index"
   ],
   "id": "d1d08bb76901e2b3"
  },
  {
   "metadata": {
    "ExecuteTime": {
     "end_time": "2024-07-03T08:08:14.102630Z",
     "start_time": "2024-07-03T08:08:14.096643Z"
    }
   },
   "cell_type": "code",
   "source": [
    "a_string = \"abcdefghij\"\n",
    "\n",
    "print(\"index 'a': \" + str(a_string.index(\"a\")))\n",
    "print(\"index 'e': \" + str(a_string.index(\"e\")))"
   ],
   "id": "a25bff4702f8f37",
   "outputs": [
    {
     "name": "stdout",
     "output_type": "stream",
     "text": [
      "index 'a': 0\n",
      "index 'e': 4\n"
     ]
    }
   ],
   "execution_count": 10
  },
  {
   "metadata": {},
   "cell_type": "markdown",
   "source": [
    "---\n",
    "# count"
   ],
   "id": "ed1d6b1ad19dd84d"
  },
  {
   "metadata": {
    "ExecuteTime": {
     "end_time": "2024-07-03T08:07:30.258773Z",
     "start_time": "2024-07-03T08:07:30.252030Z"
    }
   },
   "cell_type": "code",
   "source": [
    "a_string = \"abcdefghij-aaa\"\n",
    "\n",
    "print(\"Count 'a': \" + str(a_string.count(\"a\")))\n",
    "print(\"Count 'b': \" + str(a_string.count(\"b\")))"
   ],
   "id": "1b4740003e132bdc",
   "outputs": [
    {
     "name": "stdout",
     "output_type": "stream",
     "text": [
      "Count 'a': 4\n",
      "Count 'b' : 1\n"
     ]
    }
   ],
   "execution_count": 9
  },
  {
   "metadata": {},
   "cell_type": "markdown",
   "source": [
    "---\n",
    "# upper and lower"
   ],
   "id": "9635f1e687af218d"
  },
  {
   "metadata": {
    "ExecuteTime": {
     "end_time": "2024-07-03T08:10:25.065446Z",
     "start_time": "2024-07-03T08:10:25.056752Z"
    }
   },
   "cell_type": "code",
   "source": [
    "my_string = \"AbCdE\"\n",
    "\n",
    "print(\"Upper: \" + my_string.upper())\n",
    "print(\"Lower: \" + my_string.lower())"
   ],
   "id": "709c977a85da9fd6",
   "outputs": [
    {
     "name": "stdout",
     "output_type": "stream",
     "text": [
      "Upper: ABCDE\n",
      "Lower: abcde\n"
     ]
    }
   ],
   "execution_count": 12
  },
  {
   "metadata": {},
   "cell_type": "markdown",
   "source": [
    "---\n",
    "# startswith and endswith"
   ],
   "id": "9dd05892a5a50675"
  },
  {
   "metadata": {
    "ExecuteTime": {
     "end_time": "2024-07-03T08:12:42.875343Z",
     "start_time": "2024-07-03T08:12:42.869222Z"
    }
   },
   "cell_type": "code",
   "source": [
    "my_string = \"abc def ghi jkl\"\n",
    "\n",
    "print(\"Start with 'abc': \" + str(my_string.startswith(\"abc\")))\n",
    "print(\"Ends with 'xyz': \" + str(my_string.endswith(\"xyz\")))"
   ],
   "id": "4d1db15e6055558e",
   "outputs": [
    {
     "name": "stdout",
     "output_type": "stream",
     "text": [
      "Start with 'abc': True\n",
      "Ends with 'xyz': False\n"
     ]
    }
   ],
   "execution_count": 14
  },
  {
   "metadata": {},
   "cell_type": "markdown",
   "source": [
    "---\n",
    "# split"
   ],
   "id": "3d67b3560cd6884"
  },
  {
   "metadata": {
    "ExecuteTime": {
     "end_time": "2024-07-03T08:13:37.365088Z",
     "start_time": "2024-07-03T08:13:37.360965Z"
    }
   },
   "cell_type": "code",
   "source": [
    "my_csv = \"abc;def;ghi;jkl\"\n",
    "\n",
    "print(my_csv.split(\";\"))"
   ],
   "id": "4771f9b4e55300f",
   "outputs": [
    {
     "name": "stdout",
     "output_type": "stream",
     "text": [
      "['abc', 'def', 'ghi', 'jkl']\n"
     ]
    }
   ],
   "execution_count": 15
  },
  {
   "metadata": {},
   "cell_type": "markdown",
   "source": [
    "---\n",
    "# "
   ],
   "id": "cd63f62e42e4c134"
  },
  {
   "metadata": {},
   "cell_type": "markdown",
   "source": [
    "---\n",
    "# Substring\n",
    "Format **[start:end:step]**"
   ],
   "id": "f4e175c87d17c045"
  },
  {
   "metadata": {
    "ExecuteTime": {
     "end_time": "2024-07-03T08:18:11.669338Z",
     "start_time": "2024-07-03T08:18:11.660362Z"
    }
   },
   "cell_type": "code",
   "source": [
    "a_string = \"abcdefghij\"\n",
    "\n",
    "print(\"0:3    => \" + a_string[0:3])\n",
    "print(\"1:3    => \" + a_string[1:3])\n",
    "print(\"0:3:1  => \" + a_string[0:3:1])\n",
    "print(\"3:0:-1 => \" + a_string[3:0:-1])\n",
    "print(\"::-1   => \" + a_string[::-1])\n",
    "print(\"::3    => \" + a_string[::3])"
   ],
   "id": "7c8dea0e683feac6",
   "outputs": [
    {
     "name": "stdout",
     "output_type": "stream",
     "text": [
      "0:3    => abc\n",
      "1:3    => bc\n",
      "0:3:1  => abc\n",
      "3:0:-1 => dcb\n",
      "::-1   => jihgfedcba\n",
      "::3   => adgj\n"
     ]
    }
   ],
   "execution_count": 22
  }
 ],
 "metadata": {
  "kernelspec": {
   "display_name": "Python 3",
   "language": "python",
   "name": "python3"
  },
  "language_info": {
   "codemirror_mode": {
    "name": "ipython",
    "version": 2
   },
   "file_extension": ".py",
   "mimetype": "text/x-python",
   "name": "python",
   "nbconvert_exporter": "python",
   "pygments_lexer": "ipython2",
   "version": "2.7.6"
  }
 },
 "nbformat": 4,
 "nbformat_minor": 5
}
