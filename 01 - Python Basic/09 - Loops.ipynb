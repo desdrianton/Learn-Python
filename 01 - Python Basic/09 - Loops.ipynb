{
 "cells": [
  {
   "metadata": {},
   "cell_type": "markdown",
   "source": [
    "---\n",
    "# for (list)"
   ],
   "id": "b855c111642b1977"
  },
  {
   "metadata": {
    "ExecuteTime": {
     "end_time": "2024-07-03T09:30:34.495250Z",
     "start_time": "2024-07-03T09:30:34.490597Z"
    }
   },
   "cell_type": "code",
   "source": [
    "my_list = [111,222,333,444,555]\n",
    "\n",
    "for num in my_list:\n",
    "    print(num)"
   ],
   "id": "9cfc1b46649ab952",
   "outputs": [
    {
     "name": "stdout",
     "output_type": "stream",
     "text": [
      "111\n",
      "222\n",
      "333\n",
      "444\n",
      "555\n"
     ]
    }
   ],
   "execution_count": 2
  },
  {
   "metadata": {},
   "cell_type": "markdown",
   "source": [
    "---\n",
    "# for (in range)"
   ],
   "id": "2eaa5d8927cd251c"
  },
  {
   "metadata": {
    "ExecuteTime": {
     "end_time": "2024-07-03T09:35:29.980699Z",
     "start_time": "2024-07-03T09:35:29.974949Z"
    }
   },
   "cell_type": "code",
   "source": [
    "for num in range(5):\n",
    "    print(num)"
   ],
   "id": "6e469cea54ccd9fe",
   "outputs": [
    {
     "name": "stdout",
     "output_type": "stream",
     "text": [
      "0\n",
      "1\n",
      "2\n",
      "3\n",
      "4\n"
     ]
    }
   ],
   "execution_count": 8
  },
  {
   "metadata": {
    "ExecuteTime": {
     "end_time": "2024-07-03T09:35:32.546956Z",
     "start_time": "2024-07-03T09:35:32.542258Z"
    }
   },
   "cell_type": "code",
   "source": [
    "for num in range(3, 10):\n",
    "    print(num)"
   ],
   "id": "a6fd7d4d9aa9eaa9",
   "outputs": [
    {
     "name": "stdout",
     "output_type": "stream",
     "text": [
      "3\n",
      "4\n",
      "5\n",
      "6\n",
      "7\n",
      "8\n",
      "9\n"
     ]
    }
   ],
   "execution_count": 9
  },
  {
   "metadata": {
    "ExecuteTime": {
     "end_time": "2024-07-03T09:35:33.414426Z",
     "start_time": "2024-07-03T09:35:33.408420Z"
    }
   },
   "cell_type": "code",
   "source": [
    "for num in range(1, 11, 2):\n",
    "    print(num)"
   ],
   "id": "1b50254e59b01677",
   "outputs": [
    {
     "name": "stdout",
     "output_type": "stream",
     "text": [
      "1\n",
      "3\n",
      "5\n",
      "7\n",
      "9\n"
     ]
    }
   ],
   "execution_count": 10
  },
  {
   "metadata": {},
   "cell_type": "markdown",
   "source": [
    "---\n",
    "# while"
   ],
   "id": "b693d22d3644aa45"
  },
  {
   "metadata": {
    "ExecuteTime": {
     "end_time": "2024-07-03T09:36:36.133566Z",
     "start_time": "2024-07-03T09:36:36.128153Z"
    }
   },
   "cell_type": "code",
   "source": [
    "counter = 0\n",
    "while counter < 10:\n",
    "    print(counter)\n",
    "    counter += 1"
   ],
   "id": "894968c6d04e35b9",
   "outputs": [
    {
     "name": "stdout",
     "output_type": "stream",
     "text": [
      "0\n",
      "1\n",
      "2\n",
      "3\n",
      "4\n",
      "5\n",
      "6\n",
      "7\n",
      "8\n",
      "9\n"
     ]
    }
   ],
   "execution_count": 11
  },
  {
   "metadata": {},
   "cell_type": "markdown",
   "source": [
    "---\n",
    "# break"
   ],
   "id": "559d013fa2b04b1f"
  },
  {
   "metadata": {
    "ExecuteTime": {
     "end_time": "2024-07-03T09:38:17.299959Z",
     "start_time": "2024-07-03T09:38:17.295693Z"
    }
   },
   "cell_type": "code",
   "source": [
    "counter = 100\n",
    "while True:\n",
    "    print(counter)\n",
    "    if counter == 105:\n",
    "        break\n",
    "    counter+=1"
   ],
   "id": "b78f54b06f140c56",
   "outputs": [
    {
     "name": "stdout",
     "output_type": "stream",
     "text": [
      "100\n",
      "101\n",
      "102\n",
      "103\n",
      "104\n",
      "105\n"
     ]
    }
   ],
   "execution_count": 12
  },
  {
   "metadata": {},
   "cell_type": "markdown",
   "source": [
    "---\n",
    "# continue"
   ],
   "id": "fdb2cd622c4443e1"
  },
  {
   "metadata": {
    "ExecuteTime": {
     "end_time": "2024-07-03T09:39:37.124307Z",
     "start_time": "2024-07-03T09:39:37.120686Z"
    }
   },
   "cell_type": "code",
   "source": [
    "for x in range(0, 10):\n",
    "    if x % 2 == 0:\n",
    "        continue\n",
    "    print(x)"
   ],
   "id": "305b99dddf809074",
   "outputs": [
    {
     "name": "stdout",
     "output_type": "stream",
     "text": [
      "1\n",
      "3\n",
      "5\n",
      "7\n",
      "9\n"
     ]
    }
   ],
   "execution_count": 13
  },
  {
   "metadata": {},
   "cell_type": "markdown",
   "source": [
    "---\n",
    "# \"else\" clause for loops"
   ],
   "id": "399f9779587ec988"
  },
  {
   "metadata": {
    "ExecuteTime": {
     "end_time": "2024-07-03T09:44:34.915797Z",
     "start_time": "2024-07-03T09:44:34.911784Z"
    }
   },
   "cell_type": "code",
   "source": [
    "x = 10\n",
    "\n",
    "while x > 10:\n",
    "    print(x)\n",
    "    x += 1\n",
    "else:\n",
    "    print(\"Oh no, i am printed\")"
   ],
   "id": "1e9aa7d05e433970",
   "outputs": [
    {
     "name": "stdout",
     "output_type": "stream",
     "text": [
      "Oh no, i am printed\n"
     ]
    }
   ],
   "execution_count": 20
  },
  {
   "metadata": {
    "ExecuteTime": {
     "end_time": "2024-07-03T09:42:52.941133Z",
     "start_time": "2024-07-03T09:42:52.936822Z"
    }
   },
   "cell_type": "code",
   "source": [
    "for num in range(0, 10, -1):\n",
    "    print(num)\n",
    "else:\n",
    "    print(\"Oh no, i am printed\")"
   ],
   "id": "f7a4b21994bcf31b",
   "outputs": [
    {
     "name": "stdout",
     "output_type": "stream",
     "text": [
      "Oh no, i am printed\n"
     ]
    }
   ],
   "execution_count": 17
  }
 ],
 "metadata": {
  "kernelspec": {
   "display_name": "Python 3",
   "language": "python",
   "name": "python3"
  },
  "language_info": {
   "codemirror_mode": {
    "name": "ipython",
    "version": 2
   },
   "file_extension": ".py",
   "mimetype": "text/x-python",
   "name": "python",
   "nbconvert_exporter": "python",
   "pygments_lexer": "ipython2",
   "version": "2.7.6"
  }
 },
 "nbformat": 4,
 "nbformat_minor": 5
}
