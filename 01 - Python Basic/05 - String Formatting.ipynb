{
 "cells": [
  {
   "metadata": {},
   "cell_type": "markdown",
   "source": [
    "---\n",
    "# %s - String Formatting"
   ],
   "id": "2bdf20993b23c3e9"
  },
  {
   "metadata": {
    "ExecuteTime": {
     "end_time": "2024-07-03T05:40:19.975850Z",
     "start_time": "2024-07-03T05:40:19.968253Z"
    }
   },
   "cell_type": "code",
   "source": [
    "name1, name2, name3 = \"Anton\", \"Fio\", \"Fara\"\n",
    "print(\"Hello %s, %s and %s\" % (name1 , name2, name3))"
   ],
   "id": "fa4733a3c12e49d7",
   "outputs": [
    {
     "name": "stdout",
     "output_type": "stream",
     "text": [
      "Hello Anton, Fio and Fara\n"
     ]
    }
   ],
   "execution_count": 2
  },
  {
   "metadata": {
    "ExecuteTime": {
     "end_time": "2024-07-03T05:41:03.587974Z",
     "start_time": "2024-07-03T05:41:03.583511Z"
    }
   },
   "cell_type": "code",
   "source": [
    "my_list = [1, 2, 3]\n",
    "print(\"The list is %s\" % my_list)"
   ],
   "id": "f17cd3b6867b2e74",
   "outputs": [
    {
     "name": "stdout",
     "output_type": "stream",
     "text": [
      "The list is [1, 2, 3]\n"
     ]
    }
   ],
   "execution_count": 3
  },
  {
   "metadata": {
    "ExecuteTime": {
     "end_time": "2024-07-03T05:46:04.582493Z",
     "start_time": "2024-07-03T05:46:04.577392Z"
    }
   },
   "cell_type": "code",
   "source": [
    "my_int = 1000\n",
    "print(\"The int is %i\" % my_int)"
   ],
   "id": "35d47ab2a3f74f88",
   "outputs": [
    {
     "name": "stdout",
     "output_type": "stream",
     "text": [
      "The int is 1000.000000\n"
     ]
    }
   ],
   "execution_count": 7
  },
  {
   "metadata": {},
   "cell_type": "markdown",
   "source": [
    "---\n",
    "# %i - Integer Formatting"
   ],
   "id": "4eff84855ea14873"
  },
  {
   "metadata": {
    "ExecuteTime": {
     "end_time": "2024-07-03T05:47:48.471508Z",
     "start_time": "2024-07-03T05:47:48.467748Z"
    }
   },
   "cell_type": "code",
   "source": [
    "my_int = 1000\n",
    "print(\"The int is %i\" % my_int)"
   ],
   "id": "b09703d9f2bdd968",
   "outputs": [
    {
     "name": "stdout",
     "output_type": "stream",
     "text": [
      "The int is 1000\n"
     ]
    }
   ],
   "execution_count": 10
  },
  {
   "metadata": {},
   "cell_type": "markdown",
   "source": [
    "---\n",
    "# %f - Float Formatting"
   ],
   "id": "f70f2d6c8576301d"
  },
  {
   "metadata": {
    "ExecuteTime": {
     "end_time": "2024-07-03T05:47:33.780809Z",
     "start_time": "2024-07-03T05:47:33.776201Z"
    }
   },
   "cell_type": "code",
   "source": [
    "my_float = 1.2\n",
    "print(\"The float is %f\" % my_float)\n",
    "print(\"The float is %.1f\" % my_float)\n",
    "print(\"The float is %.10f\" % my_float)"
   ],
   "id": "98a281fb222ed6d1",
   "outputs": [
    {
     "name": "stdout",
     "output_type": "stream",
     "text": [
      "The float is 1.200000\n",
      "The float is 1.2\n",
      "The float is 1.2000000000\n"
     ]
    }
   ],
   "execution_count": 9
  },
  {
   "metadata": {},
   "cell_type": "markdown",
   "source": [
    "---\n",
    "# %x or %X - Hex Formatting"
   ],
   "id": "817f6832e9bd30b2"
  },
  {
   "metadata": {
    "ExecuteTime": {
     "end_time": "2024-07-03T05:48:43.647555Z",
     "start_time": "2024-07-03T05:48:43.644382Z"
    }
   },
   "cell_type": "code",
   "source": [
    "my_int = 2000\n",
    "print(\"The int is %x\" % my_int)\n",
    "print(\"The int is %X\" % my_int)"
   ],
   "id": "534e4d7dde091e03",
   "outputs": [
    {
     "name": "stdout",
     "output_type": "stream",
     "text": [
      "The int is 7d0\n",
      "The int is 7D0\n"
     ]
    }
   ],
   "execution_count": 12
  },
  {
   "metadata": {},
   "cell_type": "code",
   "outputs": [],
   "execution_count": null,
   "source": "",
   "id": "a85c1092b816a283"
  }
 ],
 "metadata": {
  "kernelspec": {
   "display_name": "Python 3",
   "language": "python",
   "name": "python3"
  },
  "language_info": {
   "codemirror_mode": {
    "name": "ipython",
    "version": 2
   },
   "file_extension": ".py",
   "mimetype": "text/x-python",
   "name": "python",
   "nbconvert_exporter": "python",
   "pygments_lexer": "ipython2",
   "version": "2.7.6"
  }
 },
 "nbformat": 4,
 "nbformat_minor": 5
}
