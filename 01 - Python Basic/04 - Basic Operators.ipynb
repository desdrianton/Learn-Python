{
 "cells": [
  {
   "metadata": {},
   "cell_type": "markdown",
   "source": [
    "---\n",
    "# Arithmetic Operators"
   ],
   "id": "898e330f609ccfe2"
  },
  {
   "metadata": {
    "ExecuteTime": {
     "end_time": "2024-07-03T05:25:34.336829Z",
     "start_time": "2024-07-03T05:25:34.332133Z"
    }
   },
   "cell_type": "code",
   "source": [
    "number = 1 + 2 * 3 / 4.0\n",
    "print(number)\n",
    "print(type(number))"
   ],
   "id": "e9064eb27076a3b9",
   "outputs": [
    {
     "name": "stdout",
     "output_type": "stream",
     "text": [
      "2.5\n",
      "<class 'float'>\n"
     ]
    }
   ],
   "execution_count": 3
  },
  {
   "metadata": {
    "ExecuteTime": {
     "end_time": "2024-07-03T05:25:17.949273Z",
     "start_time": "2024-07-03T05:25:17.945396Z"
    }
   },
   "cell_type": "code",
   "source": [
    "# Modulo operator\n",
    "remainder = 11 % 3\n",
    "print(remainder)\n",
    "print(type(remainder))"
   ],
   "id": "d7799418504bc366",
   "outputs": [
    {
     "name": "stdout",
     "output_type": "stream",
     "text": [
      "2\n",
      "<class 'int'>\n"
     ]
    }
   ],
   "execution_count": 2
  },
  {
   "metadata": {
    "ExecuteTime": {
     "end_time": "2024-07-03T05:28:35.691738Z",
     "start_time": "2024-07-03T05:28:35.685973Z"
    }
   },
   "cell_type": "code",
   "source": [
    "# Using two multiplication symbols makes a power relationship.\n",
    "ten_pow_three = 10 ** 3\n",
    "print(ten_pow_three)\n",
    "print(type(ten_pow_three))\n",
    "print()\n",
    "\n",
    "a = 2.5 ** 2.5\n",
    "print(a)\n",
    "print(type(a))"
   ],
   "id": "b31d30dcb57bba4e",
   "outputs": [
    {
     "name": "stdout",
     "output_type": "stream",
     "text": [
      "1000\n",
      "<class 'int'>\n",
      "\n",
      "9.882117688026186\n",
      "<class 'float'>\n"
     ]
    }
   ],
   "execution_count": 7
  },
  {
   "metadata": {},
   "cell_type": "markdown",
   "source": [
    "---\n",
    "# String Operators"
   ],
   "id": "820e5ece7af1b08c"
  },
  {
   "metadata": {},
   "cell_type": "code",
   "outputs": [],
   "execution_count": null,
   "source": [
    "# String concatenation\n",
    "hello_world = \"Hello\" + \" \" + \"World\"\n",
    "print(hello_world)"
   ],
   "id": "104964c51cfe5728"
  },
  {
   "metadata": {
    "ExecuteTime": {
     "end_time": "2024-07-03T05:31:05.773138Z",
     "start_time": "2024-07-03T05:31:05.769053Z"
    }
   },
   "cell_type": "code",
   "source": [
    "# String multiplication\n",
    "ten_times_hello_world = \"Hello World!\\n\" * 10\n",
    "print(ten_times_hello_world)"
   ],
   "id": "747d071775f61dd0",
   "outputs": [
    {
     "name": "stdout",
     "output_type": "stream",
     "text": [
      "Hello World!\n",
      "Hello World!\n",
      "Hello World!\n",
      "Hello World!\n",
      "Hello World!\n",
      "Hello World!\n",
      "Hello World!\n",
      "Hello World!\n",
      "Hello World!\n",
      "Hello World!\n",
      "\n"
     ]
    }
   ],
   "execution_count": 9
  },
  {
   "metadata": {},
   "cell_type": "markdown",
   "source": [
    "---\n",
    "# Operator on List"
   ],
   "id": "5ecb55f956a1be68"
  },
  {
   "metadata": {
    "ExecuteTime": {
     "end_time": "2024-07-03T05:33:23.427950Z",
     "start_time": "2024-07-03T05:33:23.419621Z"
    }
   },
   "cell_type": "code",
   "source": [
    "# + operator\n",
    "even_number = [2, 4, 6, 8]\n",
    "odd_number = [3, 5, 7, 9]\n",
    "all_numbers = even_number + odd_number\n",
    "print(all_numbers)"
   ],
   "id": "7d14e891928d5841",
   "outputs": [
    {
     "name": "stdout",
     "output_type": "stream",
     "text": [
      "[2, 4, 6, 8, 3, 5, 7, 9]\n"
     ]
    }
   ],
   "execution_count": 10
  },
  {
   "metadata": {
    "ExecuteTime": {
     "end_time": "2024-07-03T05:34:07.208257Z",
     "start_time": "2024-07-03T05:34:07.204369Z"
    }
   },
   "cell_type": "code",
   "source": [
    "# * operator\n",
    "print([111, 222, 333] * 3)"
   ],
   "id": "78c92ebcaeef8040",
   "outputs": [
    {
     "name": "stdout",
     "output_type": "stream",
     "text": [
      "[111, 222, 333, 111, 222, 333, 111, 222, 333]\n"
     ]
    }
   ],
   "execution_count": 12
  },
  {
   "metadata": {},
   "cell_type": "code",
   "outputs": [],
   "execution_count": null,
   "source": "",
   "id": "c4f5e7a24e975a2b"
  }
 ],
 "metadata": {
  "kernelspec": {
   "display_name": "Python 3",
   "language": "python",
   "name": "python3"
  },
  "language_info": {
   "codemirror_mode": {
    "name": "ipython",
    "version": 2
   },
   "file_extension": ".py",
   "mimetype": "text/x-python",
   "name": "python",
   "nbconvert_exporter": "python",
   "pygments_lexer": "ipython2",
   "version": "2.7.6"
  }
 },
 "nbformat": 4,
 "nbformat_minor": 5
}
