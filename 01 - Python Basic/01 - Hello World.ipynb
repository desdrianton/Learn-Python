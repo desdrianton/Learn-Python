{
 "cells": [
  {
   "metadata": {},
   "cell_type": "markdown",
   "source": [
    "---\n",
    "# 01. Simple printing\n",
    "To print a string in Python 3, just write:"
   ],
   "id": "5b69997c35c8cf1a"
  },
  {
   "metadata": {
    "ExecuteTime": {
     "end_time": "2024-07-03T03:36:01.771325Z",
     "start_time": "2024-07-03T03:36:01.765563Z"
    }
   },
   "cell_type": "code",
   "source": "print(\"This line will be printed\")",
   "id": "1c45239b135515ad",
   "outputs": [
    {
     "name": "stdout",
     "output_type": "stream",
     "text": [
      "This line will be printed\n"
     ]
    }
   ],
   "execution_count": 2
  },
  {
   "metadata": {},
   "cell_type": "markdown",
   "source": [
    "---\n",
    "# 02. Indentation\n",
    "Python uses indentation for blocks, instead of curly braces.\n",
    "\n",
    "Both tabs and spaces are supported, but the standard indentation requires standard Python code to use 4 spaces."
   ],
   "id": "a8881c802d18c4c1"
  },
  {
   "metadata": {
    "ExecuteTime": {
     "end_time": "2024-07-03T03:37:57.591731Z",
     "start_time": "2024-07-03T03:37:57.584706Z"
    }
   },
   "cell_type": "code",
   "source": [
    "x = 1\n",
    "if x == 1:\n",
    "    # indented four space\n",
    "    print(\"x is 1\")"
   ],
   "id": "de9363247e867ad",
   "outputs": [
    {
     "name": "stdout",
     "output_type": "stream",
     "text": [
      "x is 1\n"
     ]
    }
   ],
   "execution_count": 3
  }
 ],
 "metadata": {
  "kernelspec": {
   "display_name": "Python 3",
   "language": "python",
   "name": "python3"
  },
  "language_info": {
   "codemirror_mode": {
    "name": "ipython",
    "version": 2
   },
   "file_extension": ".py",
   "mimetype": "text/x-python",
   "name": "python",
   "nbconvert_exporter": "python",
   "pygments_lexer": "ipython2",
   "version": "2.7.6"
  }
 },
 "nbformat": 4,
 "nbformat_minor": 5
}
