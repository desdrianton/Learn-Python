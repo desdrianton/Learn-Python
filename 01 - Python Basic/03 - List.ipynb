{
 "cells": [
  {
   "metadata": {},
   "cell_type": "markdown",
   "source": [
    "---\n",
    "# List Declaration"
   ],
   "id": "50431e3a2b2db348"
  },
  {
   "metadata": {
    "ExecuteTime": {
     "end_time": "2024-07-03T04:35:07.552679Z",
     "start_time": "2024-07-03T04:35:07.547691Z"
    }
   },
   "cell_type": "code",
   "source": [
    "# Cara 1\n",
    "my_list1 = [1, 2, 3, 4, 5]\n",
    "print(my_list1)\n",
    "print(type(my_list1))"
   ],
   "id": "6e0ccfab3b7065a7",
   "outputs": [
    {
     "name": "stdout",
     "output_type": "stream",
     "text": [
      "[1, 2, 3, 4, 5]\n",
      "<class 'list'>\n"
     ]
    }
   ],
   "execution_count": 8
  },
  {
   "metadata": {
    "ExecuteTime": {
     "end_time": "2024-07-03T04:35:07.565976Z",
     "start_time": "2024-07-03T04:35:07.554673Z"
    }
   },
   "cell_type": "code",
   "source": [
    "# Cara 2\n",
    "my_list2 = []\n",
    "my_list2.append(1)\n",
    "my_list2.append(2)\n",
    "my_list2.append(3)\n",
    "my_list2.append(4)\n",
    "my_list2.append(5)\n",
    "print(my_list2)\n",
    "print(type(my_list2))"
   ],
   "id": "fc455faf1bae68bb",
   "outputs": [
    {
     "name": "stdout",
     "output_type": "stream",
     "text": [
      "[1, 2, 3, 4, 5]\n",
      "<class 'list'>\n"
     ]
    }
   ],
   "execution_count": 9
  },
  {
   "metadata": {},
   "cell_type": "markdown",
   "source": [
    "---\n",
    "# Access List Elements"
   ],
   "id": "21e228dd6f067de0"
  },
  {
   "metadata": {
    "ExecuteTime": {
     "end_time": "2024-07-03T04:35:07.583810Z",
     "start_time": "2024-07-03T04:35:07.578946Z"
    }
   },
   "cell_type": "code",
   "source": [
    "# Accessing per element\n",
    "my_list3 = [1, 2, 3, 4, 5]\n",
    "print(my_list3[0])\n",
    "print(type(my_list3[3]))"
   ],
   "id": "5c86dde8e0c4d1bd",
   "outputs": [
    {
     "name": "stdout",
     "output_type": "stream",
     "text": [
      "1\n",
      "<class 'int'>\n"
     ]
    }
   ],
   "execution_count": 10
  },
  {
   "metadata": {
    "ExecuteTime": {
     "end_time": "2024-07-03T04:35:07.592032Z",
     "start_time": "2024-07-03T04:35:07.587803Z"
    }
   },
   "cell_type": "code",
   "source": [
    "# Accessing using for\n",
    "for i in my_list3:\n",
    "    print(i)"
   ],
   "id": "d8517294a8e13391",
   "outputs": [
    {
     "name": "stdout",
     "output_type": "stream",
     "text": [
      "1\n",
      "2\n",
      "3\n",
      "4\n",
      "5\n"
     ]
    }
   ],
   "execution_count": 11
  }
 ],
 "metadata": {
  "kernelspec": {
   "display_name": "Python 3",
   "language": "python",
   "name": "python3"
  },
  "language_info": {
   "codemirror_mode": {
    "name": "ipython",
    "version": 2
   },
   "file_extension": ".py",
   "mimetype": "text/x-python",
   "name": "python",
   "nbconvert_exporter": "python",
   "pygments_lexer": "ipython2",
   "version": "2.7.6"
  }
 },
 "nbformat": 4,
 "nbformat_minor": 5
}
