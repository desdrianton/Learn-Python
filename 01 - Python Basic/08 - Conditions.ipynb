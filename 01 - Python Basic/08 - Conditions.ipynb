{
 "cells": [
  {
   "metadata": {},
   "cell_type": "markdown",
   "source": "# Comparison Operator",
   "id": "b855c111642b1977"
  },
  {
   "metadata": {
    "ExecuteTime": {
     "end_time": "2024-07-03T09:07:39.837394Z",
     "start_time": "2024-07-03T09:07:39.832771Z"
    }
   },
   "cell_type": "code",
   "source": [
    "x = 2\n",
    "\n",
    "print(x == 2) # prints out True\n",
    "print(x == 3) # prints out False\n",
    "print(x < 3) # prints out True"
   ],
   "id": "514c2a4edb7d191d",
   "outputs": [
    {
     "name": "stdout",
     "output_type": "stream",
     "text": [
      "True\n",
      "False\n",
      "True\n"
     ]
    }
   ],
   "execution_count": 1
  },
  {
   "metadata": {},
   "cell_type": "markdown",
   "source": [
    "---\n",
    "# Boolean Operator (and, or, not)"
   ],
   "id": "e3b072cf8076bd37"
  },
  {
   "metadata": {
    "ExecuteTime": {
     "end_time": "2024-07-03T09:08:52.085340Z",
     "start_time": "2024-07-03T09:08:52.081568Z"
    }
   },
   "cell_type": "code",
   "source": [
    "name = \"John\"\n",
    "age = 23\n",
    "\n",
    "if name == \"John\" and age == 23:\n",
    "    print(\"Your name is John, and you are also 23 years old.\")\n",
    "\n",
    "if name == \"John\" or name == \"Rick\":\n",
    "    print(\"Your name is either John or Rick.\")"
   ],
   "id": "bd25387682d7a84e",
   "outputs": [
    {
     "name": "stdout",
     "output_type": "stream",
     "text": [
      "Your name is John, and you are also 23 years old.\n",
      "Your name is either John or Rick.\n"
     ]
    }
   ],
   "execution_count": 2
  },
  {
   "metadata": {
    "ExecuteTime": {
     "end_time": "2024-07-03T09:20:12.908314Z",
     "start_time": "2024-07-03T09:20:12.899282Z"
    }
   },
   "cell_type": "code",
   "source": [
    "a = True\n",
    "b = not a\n",
    "\n",
    "print(a)\n",
    "print(b)"
   ],
   "id": "83d48a4ab60cd48a",
   "outputs": [
    {
     "name": "stdout",
     "output_type": "stream",
     "text": [
      "True\n",
      "False\n"
     ]
    }
   ],
   "execution_count": 11
  },
  {
   "metadata": {},
   "cell_type": "markdown",
   "source": [
    "---\n",
    "# \"in\" Operator"
   ],
   "id": "65dda2b2ae85ab11"
  },
  {
   "metadata": {
    "ExecuteTime": {
     "end_time": "2024-07-03T09:10:04.816826Z",
     "start_time": "2024-07-03T09:10:04.808473Z"
    }
   },
   "cell_type": "code",
   "source": [
    "name = \"John\"\n",
    "\n",
    "if name in [\"John\", \"Rick\"]:\n",
    "    print(\"Your name is either John or Rick.\")"
   ],
   "id": "915436e610746dc0",
   "outputs": [
    {
     "name": "stdout",
     "output_type": "stream",
     "text": [
      "Your name is either John or Rick.\n"
     ]
    }
   ],
   "execution_count": 4
  },
  {
   "metadata": {},
   "cell_type": "markdown",
   "source": [
    "---\n",
    "# \"is\" Operator"
   ],
   "id": "15fd5c136cb70888"
  },
  {
   "metadata": {
    "ExecuteTime": {
     "end_time": "2024-07-03T09:18:03.999676Z",
     "start_time": "2024-07-03T09:18:03.993628Z"
    }
   },
   "cell_type": "code",
   "source": [
    "x = [1, 2, 3]\n",
    "y = [1, 2, 3]\n",
    "z = x\n",
    "\n",
    "x_is_y = x is y\n",
    "x_is_z = x is z\n",
    "\n",
    "print(\"x is y ? %s\" % x_is_y)\n",
    "print(\"x is z ? %s\" % x_is_z)"
   ],
   "id": "749eacab478f3d5",
   "outputs": [
    {
     "name": "stdout",
     "output_type": "stream",
     "text": [
      "x is y ? False\n",
      "x is z ? True\n"
     ]
    }
   ],
   "execution_count": 10
  },
  {
   "metadata": {},
   "cell_type": "markdown",
   "source": [
    "---\n",
    "# if, elif, else"
   ],
   "id": "c3e1c813398e8152"
  },
  {
   "metadata": {
    "ExecuteTime": {
     "end_time": "2024-07-03T09:12:21.416891Z",
     "start_time": "2024-07-03T09:12:21.410610Z"
    }
   },
   "cell_type": "code",
   "source": [
    "x = 2\n",
    "\n",
    "if x > 0:\n",
    "    print(\"x is positive.\")\n",
    "elif x < 0:\n",
    "    print(\"x is negative.\")\n",
    "else:\n",
    "    print(\"x is zero.\")"
   ],
   "id": "54e11901cf24027b",
   "outputs": [
    {
     "name": "stdout",
     "output_type": "stream",
     "text": [
      "x is positive.\n"
     ]
    }
   ],
   "execution_count": 5
  },
  {
   "metadata": {},
   "cell_type": "code",
   "outputs": [],
   "execution_count": null,
   "source": "",
   "id": "5db2078d9aeb5539"
  }
 ],
 "metadata": {
  "kernelspec": {
   "display_name": "Python 3",
   "language": "python",
   "name": "python3"
  },
  "language_info": {
   "codemirror_mode": {
    "name": "ipython",
    "version": 2
   },
   "file_extension": ".py",
   "mimetype": "text/x-python",
   "name": "python",
   "nbconvert_exporter": "python",
   "pygments_lexer": "ipython2",
   "version": "2.7.6"
  }
 },
 "nbformat": 4,
 "nbformat_minor": 5
}
