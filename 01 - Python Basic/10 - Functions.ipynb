{
 "cells": [
  {
   "metadata": {},
   "cell_type": "markdown",
   "source": [
    "---\n",
    "# Basic Function Declaration"
   ],
   "id": "1c63f0847c53945"
  },
  {
   "metadata": {
    "ExecuteTime": {
     "end_time": "2024-07-03T09:48:59.625352Z",
     "start_time": "2024-07-03T09:48:59.620793Z"
    }
   },
   "cell_type": "code",
   "source": [
    "def greet(name):\n",
    "    print(\"Hello \" + name)\n",
    "\n",
    "greet(\"Anton\")"
   ],
   "id": "bd240ef3b9b12896",
   "outputs": [
    {
     "name": "stdout",
     "output_type": "stream",
     "text": [
      "Hello Anton\n"
     ]
    }
   ],
   "execution_count": 1
  },
  {
   "metadata": {},
   "cell_type": "markdown",
   "source": [
    "---\n",
    "# Function Declaration with Parameters"
   ],
   "id": "bd0a70cda1bd2dc1"
  },
  {
   "metadata": {
    "ExecuteTime": {
     "end_time": "2024-07-03T09:50:23.674536Z",
     "start_time": "2024-07-03T09:50:23.670542Z"
    }
   },
   "cell_type": "code",
   "source": [
    "def multiply(num1, num2):\n",
    "    print(\"%s * %s = %s\" % (num1, num2, num1 * num2))\n",
    "\n",
    "multiply(10, 20)"
   ],
   "id": "70b18296b0505b8a",
   "outputs": [
    {
     "name": "stdout",
     "output_type": "stream",
     "text": [
      "10 * 20 = 200\n"
     ]
    }
   ],
   "execution_count": 2
  },
  {
   "metadata": {},
   "cell_type": "markdown",
   "source": [
    "---\n",
    "# Return Value"
   ],
   "id": "35c7063c5238326b"
  },
  {
   "metadata": {
    "ExecuteTime": {
     "end_time": "2024-07-03T09:50:59.653633Z",
     "start_time": "2024-07-03T09:50:59.649815Z"
    }
   },
   "cell_type": "code",
   "source": [
    "def multiply(num1, num2):\n",
    "    return num1 * num2\n",
    "\n",
    "print(\"%s * %s = %s\" % (10, 20, multiply(10, 20)))"
   ],
   "id": "45548623cb8de75a",
   "outputs": [
    {
     "name": "stdout",
     "output_type": "stream",
     "text": [
      "10 * 20 = 200\n"
     ]
    }
   ],
   "execution_count": 3
  },
  {
   "metadata": {},
   "cell_type": "markdown",
   "source": [
    "---\n",
    "# Multiple Return Value"
   ],
   "id": "7acd59f6f6862c02"
  },
  {
   "metadata": {
    "ExecuteTime": {
     "end_time": "2024-07-03T09:53:32.324445Z",
     "start_time": "2024-07-03T09:53:32.318750Z"
    }
   },
   "cell_type": "code",
   "source": [
    "def add_and_sub(num1, num2):\n",
    "    return num1 + num2, num1 - num2\n",
    "\n",
    "add, sub = add_and_sub(10, 20)\n",
    "print(\"Add: %s\" %add)\n",
    "print(\"Sub: %s\" %sub)"
   ],
   "id": "d476403169baef63",
   "outputs": [
    {
     "name": "stdout",
     "output_type": "stream",
     "text": [
      "Add: 30\n",
      "Sub: -10\n"
     ]
    }
   ],
   "execution_count": 4
  },
  {
   "metadata": {},
   "cell_type": "markdown",
   "source": [
    "---\n",
    "# Function is Class"
   ],
   "id": "51db90f22e4feff4"
  },
  {
   "metadata": {
    "ExecuteTime": {
     "end_time": "2024-07-03T10:54:52.613154Z",
     "start_time": "2024-07-03T10:54:52.608402Z"
    }
   },
   "cell_type": "code",
   "source": [
    "def some_function(num):\n",
    "    print(\"Some function: %s\" % num)\n",
    "    \n",
    "other_function = some_function\n",
    "other_function(10)\n",
    "print(type(other_function))\n",
    "print()\n",
    "\n",
    "other_function2 = some_function(99)\n",
    "print(type(other_function2))\n",
    "other_function2"
   ],
   "id": "3bd577f5f3e40348",
   "outputs": [
    {
     "name": "stdout",
     "output_type": "stream",
     "text": [
      "Some function: 10\n",
      "<class 'function'>\n",
      "\n",
      "Some function: 99\n",
      "<class 'NoneType'>\n"
     ]
    }
   ],
   "execution_count": 11
  }
 ],
 "metadata": {
  "kernelspec": {
   "display_name": "Python 3",
   "language": "python",
   "name": "python3"
  },
  "language_info": {
   "codemirror_mode": {
    "name": "ipython",
    "version": 2
   },
   "file_extension": ".py",
   "mimetype": "text/x-python",
   "name": "python",
   "nbconvert_exporter": "python",
   "pygments_lexer": "ipython2",
   "version": "2.7.6"
  }
 },
 "nbformat": 4,
 "nbformat_minor": 5
}
