{
 "cells": [
  {
   "cell_type": "code",
   "execution_count": 3,
   "metadata": {},
   "outputs": [],
   "source": [
    "import torch\n",
    "import torch.nn as nn"
   ]
  },
  {
   "cell_type": "markdown",
   "metadata": {},
   "source": [
    "---\n",
    "# Embedding layer"
   ]
  },
  {
   "cell_type": "code",
   "execution_count": 4,
   "metadata": {},
   "outputs": [
    {
     "name": "stdout",
     "output_type": "stream",
     "text": [
      "tensor([[[ 0.6190,  1.2265, -0.5350],\n",
      "         [-0.7455,  1.2051,  0.8970],\n",
      "         [ 0.0154,  0.6554,  1.0549]],\n",
      "\n",
      "        [[-0.3625, -1.5772,  1.1069],\n",
      "         [ 0.0154,  0.6554,  1.0549],\n",
      "         [ 0.6190,  1.2265, -0.5350]]], grad_fn=<EmbeddingBackward0>)\n"
     ]
    }
   ],
   "source": [
    "# Define an embedding layer with 4 characters, each represented by a 3-dimensional vector\n",
    "vocab_list = 4\n",
    "vector_dims = 3\n",
    "embedding = nn.Embedding(vocab_list, vector_dims)\n",
    "\n",
    "# Input: a batch of 2 words, each containing 3 characters\n",
    "# Characters are represented by their IDs\n",
    "input = torch.tensor([[2, 0, 1], [3, 1, 2]])\n",
    "\n",
    "# Get the embeddings for each character in the input\n",
    "output = embedding(input)\n",
    "\n",
    "print(output)\n"
   ]
  }
 ],
 "metadata": {
  "kernelspec": {
   "display_name": "Python 3",
   "language": "python",
   "name": "python3"
  },
  "language_info": {
   "codemirror_mode": {
    "name": "ipython",
    "version": 3
   },
   "file_extension": ".py",
   "mimetype": "text/x-python",
   "name": "python",
   "nbconvert_exporter": "python",
   "pygments_lexer": "ipython3",
   "version": "3.12.4"
  }
 },
 "nbformat": 4,
 "nbformat_minor": 2
}
