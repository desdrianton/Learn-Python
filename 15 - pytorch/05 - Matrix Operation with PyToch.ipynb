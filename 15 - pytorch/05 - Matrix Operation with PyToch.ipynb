{
 "cells": [
  {
   "cell_type": "code",
   "execution_count": 10,
   "metadata": {},
   "outputs": [],
   "source": [
    "import torch\n",
    "import torch.nn as nn\n",
    "import torch.nn.functional as F"
   ]
  },
  {
   "cell_type": "markdown",
   "metadata": {},
   "source": [
    "---\n",
    "# Dot Product (@) and torch.matmul()"
   ]
  },
  {
   "cell_type": "code",
   "execution_count": 5,
   "metadata": {},
   "outputs": [
    {
     "name": "stdout",
     "output_type": "stream",
     "text": [
      "tensor([32])\n",
      "tensor([32])\n",
      "\n",
      "tensor([40, 46])\n",
      "tensor([40, 46])\n",
      "\n",
      "tensor([[220, 280],\n",
      "        [490, 640]])\n",
      "tensor([[220, 280],\n",
      "        [490, 640]])\n",
      "\n"
     ]
    }
   ],
   "source": [
    "# (1x3) . (3x1) = (1x1)\n",
    "matrix1 = torch.tensor([1,2,3])     # 1x3\n",
    "matrix2 = torch.tensor([[4],\n",
    "                        [5],\n",
    "                        [6]])       # 3x1\n",
    "matrix3 = matrix1 @ matrix2         # dot product (1x1)\n",
    "print(matrix3)\n",
    "print(torch.matmul(matrix1, matrix2))\n",
    "print()\n",
    "\n",
    "# (1x3) . (3x2) = (1x2)\n",
    "matrix1 = torch.tensor([1,2,3])     # 1x3\n",
    "matrix2 = torch.tensor([[4,5],\n",
    "                        [6,7],\n",
    "                        [8,9]])     # 3x2\n",
    "matrix3 = matrix1 @ matrix2         # dot product (1x2)\n",
    "print(matrix3)\n",
    "print(torch.matmul(matrix1, matrix2))\n",
    "print()\n",
    "\n",
    "\n",
    "# (2x3) . (3x2) = (2x2)\n",
    "matrix1 = torch.tensor([[1,2,3],\n",
    "                        [4,5,6]])   # 2x3\n",
    "matrix2 = torch.tensor([[10,20],\n",
    "                        [30,40],\n",
    "                        [50,60]])   # 3x2\n",
    "matrix3 = matrix1 @ matrix2         # dot product (2x2)\n",
    "print(matrix3)\n",
    "print(torch.matmul(matrix1, matrix2))\n",
    "print()\n"
   ]
  },
  {
   "cell_type": "markdown",
   "metadata": {},
   "source": [
    "---\n",
    "# torch.softmax()\n",
    "Softmax(xi​)=∑j​exp(xj​)exp(xi​)​\n"
   ]
  },
  {
   "cell_type": "code",
   "execution_count": 12,
   "metadata": {},
   "outputs": [
    {
     "name": "stdout",
     "output_type": "stream",
     "text": [
      "tensor([0.0900, 0.2447, 0.6652])\n"
     ]
    }
   ],
   "source": [
    "my_tensor = torch.tensor([1.,2.,3.])\n",
    "print(F.softmax(my_tensor, dim=0))"
   ]
  }
 ],
 "metadata": {
  "kernelspec": {
   "display_name": "Python 3",
   "language": "python",
   "name": "python3"
  },
  "language_info": {
   "codemirror_mode": {
    "name": "ipython",
    "version": 3
   },
   "file_extension": ".py",
   "mimetype": "text/x-python",
   "name": "python",
   "nbconvert_exporter": "python",
   "pygments_lexer": "ipython3",
   "version": "3.12.4"
  }
 },
 "nbformat": 4,
 "nbformat_minor": 2
}
