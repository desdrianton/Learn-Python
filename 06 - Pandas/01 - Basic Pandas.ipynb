{
 "cells": [
  {
   "metadata": {},
   "cell_type": "markdown",
   "source": "# Basic Pandas",
   "id": "8b2525227c665f06"
  },
  {
   "metadata": {
    "ExecuteTime": {
     "end_time": "2024-07-03T21:11:28.530208Z",
     "start_time": "2024-07-03T21:11:28.522706Z"
    }
   },
   "cell_type": "code",
   "source": [
    "dict = {\"country\": [\"Brazil\", \"Russia\", \"India\", \"China\", \"South Africa\"],\n",
    "       \"capital\": [\"Brasilia\", \"Moscow\", \"New Dehli\", \"Beijing\", \"Pretoria\"],\n",
    "       \"area\": [8.516, 17.10, 3.286, 9.597, 1.221],\n",
    "       \"population\": [200.4, 143.5, 1252, 1357, 52.98]\n",
    "}\n",
    "\n",
    "import pandas as pd\n",
    "\n",
    "dataframe = pd.DataFrame(dict)\n",
    "print(dataframe)"
   ],
   "id": "ed0823d08cf8ba55",
   "outputs": [
    {
     "name": "stdout",
     "output_type": "stream",
     "text": [
      "        country    capital    area  population\n",
      "0        Brazil   Brasilia   8.516      200.40\n",
      "1        Russia     Moscow  17.100      143.50\n",
      "2         India  New Dehli   3.286     1252.00\n",
      "3         China    Beijing   9.597     1357.00\n",
      "4  South Africa   Pretoria   1.221       52.98\n"
     ]
    }
   ],
   "execution_count": 3
  },
  {
   "metadata": {
    "ExecuteTime": {
     "end_time": "2024-07-03T21:11:48.276241Z",
     "start_time": "2024-07-03T21:11:48.269012Z"
    }
   },
   "cell_type": "code",
   "source": [
    "# Set the index for brics\n",
    "dataframe.index = [\"BR\", \"RU\", \"IN\", \"CH\", \"SA\"]\n",
    "\n",
    "# Print out dataframe with new index values\n",
    "print(dataframe)"
   ],
   "id": "af8ead8d99d7fb5d",
   "outputs": [
    {
     "name": "stdout",
     "output_type": "stream",
     "text": [
      "         country    capital    area  population\n",
      "BR        Brazil   Brasilia   8.516      200.40\n",
      "RU        Russia     Moscow  17.100      143.50\n",
      "IN         India  New Dehli   3.286     1252.00\n",
      "CH         China    Beijing   9.597     1357.00\n",
      "SA  South Africa   Pretoria   1.221       52.98\n"
     ]
    }
   ],
   "execution_count": 4
  },
  {
   "metadata": {
    "ExecuteTime": {
     "end_time": "2024-07-03T21:14:17.719831Z",
     "start_time": "2024-07-03T21:14:17.708945Z"
    }
   },
   "cell_type": "code",
   "source": [
    "# Import pandas as pd\n",
    "import pandas as pd\n",
    "\n",
    "# Import the cars.csv data: cars\n",
    "username = pd.read_csv('username-password-recovery-code.csv')\n",
    "\n",
    "# Print out cars\n",
    "print(username)"
   ],
   "id": "ae4201780bf1c81f",
   "outputs": [
    {
     "name": "stdout",
     "output_type": "stream",
     "text": [
      "  Username; Identifier;One-time password;Recovery code;First name;Last name;Department;Location\n",
      "0  booker12;9012;12se74;rb9012;Rachel;Booker;Sale...                                           \n",
      "1  grey07;2070;04ap67;lg2070;Laura;Grey;Depot;London                                           \n",
      "2  johnson81;4081;30no86;cj4081;Craig;Johnson;Dep...                                           \n",
      "3  jenkins46;9346;14ju73;mj9346;Mary;Jenkins;Engi...                                           \n",
      "4  smith79;5079;09ja61;js5079;Jamie;Smith;Enginee...                                           \n"
     ]
    }
   ],
   "execution_count": 5
  },
  {
   "metadata": {
    "ExecuteTime": {
     "end_time": "2024-07-03T21:18:08.320206Z",
     "start_time": "2024-07-03T21:18:08.313474Z"
    }
   },
   "cell_type": "code",
   "source": "print(username[0:2])",
   "id": "e574848f380cfac5",
   "outputs": [
    {
     "name": "stdout",
     "output_type": "stream",
     "text": [
      "  Username; Identifier;One-time password;Recovery code;First name;Last name;Department;Location\n",
      "0  booker12;9012;12se74;rb9012;Rachel;Booker;Sale...                                           \n",
      "1  grey07;2070;04ap67;lg2070;Laura;Grey;Depot;London                                           \n"
     ]
    }
   ],
   "execution_count": 8
  }
 ],
 "metadata": {
  "kernelspec": {
   "display_name": "Python 3",
   "language": "python",
   "name": "python3"
  },
  "language_info": {
   "codemirror_mode": {
    "name": "ipython",
    "version": 2
   },
   "file_extension": ".py",
   "mimetype": "text/x-python",
   "name": "python",
   "nbconvert_exporter": "python",
   "pygments_lexer": "ipython2",
   "version": "2.7.6"
  }
 },
 "nbformat": 4,
 "nbformat_minor": 5
}
