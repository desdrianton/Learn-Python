{
 "cells": [
  {
   "metadata": {},
   "cell_type": "markdown",
   "source": [
    "---\n",
    "# addition, subtraction, multiplication, division"
   ],
   "id": "a553e4ce3356b18"
  },
  {
   "metadata": {
    "ExecuteTime": {
     "end_time": "2024-07-06T14:18:43.301402Z",
     "start_time": "2024-07-06T14:18:43.295247Z"
    }
   },
   "cell_type": "code",
   "source": [
    "import numpy as np\n",
    "\n",
    "my_array1 = np.array([100, 200, 300, 400, 500])\n",
    "my_array2 = np.array([50, 50, 50, 50, 50])\n",
    "\n",
    "print(\"Addition: {}\".format(my_array1 + my_array2))\n",
    "print(\"Subtraction: {}\".format(my_array1 - my_array2))\n",
    "print(\"Multiplication: {}\".format(my_array1 * my_array2))\n",
    "print(\"Division: {}\".format(my_array1 / my_array2))"
   ],
   "id": "ac08a173d7a420ec",
   "outputs": [
    {
     "name": "stdout",
     "output_type": "stream",
     "text": [
      "Addition: [150 250 350 450 550]\n",
      "Subtraction: [ 50 150 250 350 450]\n",
      "Multiplication: [ 5000 10000 15000 20000 25000]\n",
      "Division: [ 2.  4.  6.  8. 10.]\n"
     ]
    }
   ],
   "execution_count": 6
  },
  {
   "metadata": {},
   "cell_type": "markdown",
   "source": [
    "---\n",
    "# sum"
   ],
   "id": "ca7bfcaaee31ff20"
  },
  {
   "metadata": {
    "ExecuteTime": {
     "end_time": "2024-07-06T14:23:00.341058Z",
     "start_time": "2024-07-06T14:23:00.335988Z"
    }
   },
   "cell_type": "code",
   "source": [
    "my_array = np.array([[100, 200], [300, 400]])\n",
    "\n",
    "print(\"Sum: {}\".format(my_array.sum()))\n",
    "print(\"Sum axis 0: {}\".format(my_array.sum(axis=0))) # [100+300, 200+400]\n",
    "print(\"Sum axis 1: {}\".format(my_array.sum(axis=1))) # [100+200, 300+400]"
   ],
   "id": "4eec24d3ff1c22af",
   "outputs": [
    {
     "name": "stdout",
     "output_type": "stream",
     "text": [
      "Sum: 1000\n",
      "Sum axis 0: [400 600]\n",
      "Sum axis 1: [300 700]\n"
     ]
    }
   ],
   "execution_count": 10
  }
 ],
 "metadata": {
  "kernelspec": {
   "display_name": "Python 3",
   "language": "python",
   "name": "python3"
  },
  "language_info": {
   "codemirror_mode": {
    "name": "ipython",
    "version": 2
   },
   "file_extension": ".py",
   "mimetype": "text/x-python",
   "name": "python",
   "nbconvert_exporter": "python",
   "pygments_lexer": "ipython2",
   "version": "2.7.6"
  }
 },
 "nbformat": 4,
 "nbformat_minor": 5
}
