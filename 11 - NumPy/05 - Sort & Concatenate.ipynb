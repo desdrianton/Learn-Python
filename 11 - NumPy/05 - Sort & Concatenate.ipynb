{
 "cells": [
  {
   "metadata": {},
   "cell_type": "markdown",
   "source": [
    "---\n",
    "# Sort"
   ],
   "id": "505157831392170d"
  },
  {
   "metadata": {},
   "cell_type": "code",
   "outputs": [],
   "execution_count": null,
   "source": [
    "import numpy as np\n",
    "my_array = np.array([999, 200, 300, 100, 500])\n",
    "print(my_array)\n",
    "print(np.sort(my_array))"
   ],
   "id": "ecf7e75580b731eb"
  },
  {
   "metadata": {},
   "cell_type": "markdown",
   "source": [
    "---\n",
    "# Concatenate"
   ],
   "id": "312a3782368b10"
  },
  {
   "metadata": {
    "ExecuteTime": {
     "end_time": "2024-07-06T14:04:44.857555Z",
     "start_time": "2024-07-06T14:04:44.852488Z"
    }
   },
   "cell_type": "code",
   "source": [
    "my_list1 = np.array([[1, 2, 3], [4, 5, 6], [7, 8, 9]])\n",
    "my_list2 = np.array([[111, 222, 333]])\n",
    "print(np.concatenate((my_list1, my_list2)))"
   ],
   "id": "a08192e0143d9307",
   "outputs": [
    {
     "name": "stdout",
     "output_type": "stream",
     "text": [
      "[[  1   2   3]\n",
      " [  4   5   6]\n",
      " [  7   8   9]\n",
      " [111 222 333]]\n"
     ]
    }
   ],
   "execution_count": 9
  }
 ],
 "metadata": {
  "kernelspec": {
   "display_name": "Python 3",
   "language": "python",
   "name": "python3"
  },
  "language_info": {
   "codemirror_mode": {
    "name": "ipython",
    "version": 2
   },
   "file_extension": ".py",
   "mimetype": "text/x-python",
   "name": "python",
   "nbconvert_exporter": "python",
   "pygments_lexer": "ipython2",
   "version": "2.7.6"
  }
 },
 "nbformat": 4,
 "nbformat_minor": 5
}
